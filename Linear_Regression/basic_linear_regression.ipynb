{
 "cells": [
  {
   "cell_type": "code",
   "execution_count": 2,
   "id": "9e073644",
   "metadata": {},
   "outputs": [
    {
     "name": "stdout",
     "output_type": "stream",
     "text": [
      "Requirement already satisfied: statsmodels in /Users/jeeva.ramachandran/.pyenv/versions/3.10.13/envs/gensimfix/lib/python3.10/site-packages (0.14.5)\n",
      "Requirement already satisfied: patsy>=0.5.6 in /Users/jeeva.ramachandran/.pyenv/versions/3.10.13/envs/gensimfix/lib/python3.10/site-packages (from statsmodels) (1.0.1)\n",
      "Requirement already satisfied: packaging>=21.3 in /Users/jeeva.ramachandran/.pyenv/versions/3.10.13/envs/gensimfix/lib/python3.10/site-packages (from statsmodels) (25.0)\n",
      "Requirement already satisfied: scipy!=1.9.2,>=1.8 in /Users/jeeva.ramachandran/.pyenv/versions/3.10.13/envs/gensimfix/lib/python3.10/site-packages (from statsmodels) (1.12.0)\n",
      "Requirement already satisfied: pandas!=2.1.0,>=1.4 in /Users/jeeva.ramachandran/.pyenv/versions/3.10.13/envs/gensimfix/lib/python3.10/site-packages (from statsmodels) (2.2.2)\n",
      "Requirement already satisfied: numpy<3,>=1.22.3 in /Users/jeeva.ramachandran/.pyenv/versions/3.10.13/envs/gensimfix/lib/python3.10/site-packages (from statsmodels) (1.26.4)\n",
      "Requirement already satisfied: pytz>=2020.1 in /Users/jeeva.ramachandran/.pyenv/versions/3.10.13/envs/gensimfix/lib/python3.10/site-packages (from pandas!=2.1.0,>=1.4->statsmodels) (2025.2)\n",
      "Requirement already satisfied: python-dateutil>=2.8.2 in /Users/jeeva.ramachandran/.pyenv/versions/3.10.13/envs/gensimfix/lib/python3.10/site-packages (from pandas!=2.1.0,>=1.4->statsmodels) (2.9.0.post0)\n",
      "Requirement already satisfied: tzdata>=2022.7 in /Users/jeeva.ramachandran/.pyenv/versions/3.10.13/envs/gensimfix/lib/python3.10/site-packages (from pandas!=2.1.0,>=1.4->statsmodels) (2025.2)\n",
      "Requirement already satisfied: six>=1.5 in /Users/jeeva.ramachandran/.pyenv/versions/3.10.13/envs/gensimfix/lib/python3.10/site-packages (from python-dateutil>=2.8.2->pandas!=2.1.0,>=1.4->statsmodels) (1.17.0)\n",
      "\n",
      "\u001b[1m[\u001b[0m\u001b[34;49mnotice\u001b[0m\u001b[1;39;49m]\u001b[0m\u001b[39;49m A new release of pip is available: \u001b[0m\u001b[31;49m23.0.1\u001b[0m\u001b[39;49m -> \u001b[0m\u001b[32;49m25.2\u001b[0m\n",
      "\u001b[1m[\u001b[0m\u001b[34;49mnotice\u001b[0m\u001b[1;39;49m]\u001b[0m\u001b[39;49m To update, run: \u001b[0m\u001b[32;49mpip install --upgrade pip\u001b[0m\n",
      "Requirement already satisfied: scikit-learn in /Users/jeeva.ramachandran/.pyenv/versions/3.10.13/envs/gensimfix/lib/python3.10/site-packages (1.7.0)\n",
      "Requirement already satisfied: scipy>=1.8.0 in /Users/jeeva.ramachandran/.pyenv/versions/3.10.13/envs/gensimfix/lib/python3.10/site-packages (from scikit-learn) (1.12.0)\n",
      "Requirement already satisfied: numpy>=1.22.0 in /Users/jeeva.ramachandran/.pyenv/versions/3.10.13/envs/gensimfix/lib/python3.10/site-packages (from scikit-learn) (1.26.4)\n",
      "Requirement already satisfied: joblib>=1.2.0 in /Users/jeeva.ramachandran/.pyenv/versions/3.10.13/envs/gensimfix/lib/python3.10/site-packages (from scikit-learn) (1.5.1)\n",
      "Requirement already satisfied: threadpoolctl>=3.1.0 in /Users/jeeva.ramachandran/.pyenv/versions/3.10.13/envs/gensimfix/lib/python3.10/site-packages (from scikit-learn) (3.6.0)\n",
      "\n",
      "\u001b[1m[\u001b[0m\u001b[34;49mnotice\u001b[0m\u001b[1;39;49m]\u001b[0m\u001b[39;49m A new release of pip is available: \u001b[0m\u001b[31;49m23.0.1\u001b[0m\u001b[39;49m -> \u001b[0m\u001b[32;49m25.2\u001b[0m\n",
      "\u001b[1m[\u001b[0m\u001b[34;49mnotice\u001b[0m\u001b[1;39;49m]\u001b[0m\u001b[39;49m To update, run: \u001b[0m\u001b[32;49mpip install --upgrade pip\u001b[0m\n"
     ]
    }
   ],
   "source": [
    "!pip install statsmodels\n",
    "!pip install scikit-learn\n"
   ]
  },
  {
   "cell_type": "code",
   "execution_count": 3,
   "id": "cd56b174",
   "metadata": {},
   "outputs": [],
   "source": [
    "import numpy as np\n",
    "import pandas as pd\n",
    "import seaborn as sns\n",
    "import matplotlib.pyplot as plt\n",
    "import statsmodels.api as sm\n",
    "from statsmodels.stats.outliers_influence import variance_inflation_factor\n",
    "\n",
    "import sklearn\n",
    "from sklearn.model_selection import train_test_split \n",
    "\n",
    "from sklearn.preprocessing import MinMaxScaler\n",
    "\n",
    "from sklearn.metrics import mean_squared_error\n",
    "from sklearn.metrics import r2_score\n"
   ]
  },
  {
   "cell_type": "code",
   "execution_count": 4,
   "id": "8e82b53f",
   "metadata": {},
   "outputs": [],
   "source": [
    "# read the file\n",
    "df=pd.read_csv('../Data/basic_dataset.csv')"
   ]
  },
  {
   "cell_type": "code",
   "execution_count": 5,
   "id": "dcbce369",
   "metadata": {},
   "outputs": [
    {
     "name": "stdout",
     "output_type": "stream",
     "text": [
      "<class 'pandas.core.frame.DataFrame'>\n",
      "RangeIndex: 500 entries, 0 to 499\n",
      "Data columns (total 6 columns):\n",
      " #   Column           Non-Null Count  Dtype  \n",
      "---  ------           --------------  -----  \n",
      " 0   Age              500 non-null    int64  \n",
      " 1   Income_k$        500 non-null    int64  \n",
      " 2   Education_Level  500 non-null    int64  \n",
      " 3   Spending_Score   500 non-null    float64\n",
      " 4   Purchased        500 non-null    int64  \n",
      " 5   Customer_Type    500 non-null    object \n",
      "dtypes: float64(1), int64(4), object(1)\n",
      "memory usage: 23.6+ KB\n"
     ]
    }
   ],
   "source": [
    "df.info()"
   ]
  },
  {
   "cell_type": "code",
   "execution_count": 6,
   "id": "031319ae",
   "metadata": {},
   "outputs": [
    {
     "data": {
      "application/vnd.microsoft.datawrangler.viewer.v0+json": {
       "columns": [
        {
         "name": "index",
         "rawType": "int64",
         "type": "integer"
        },
        {
         "name": "Age",
         "rawType": "int64",
         "type": "integer"
        },
        {
         "name": "Income_k$",
         "rawType": "int64",
         "type": "integer"
        },
        {
         "name": "Education_Level",
         "rawType": "int64",
         "type": "integer"
        },
        {
         "name": "Spending_Score",
         "rawType": "float64",
         "type": "float"
        },
        {
         "name": "Purchased",
         "rawType": "int64",
         "type": "integer"
        },
        {
         "name": "Customer_Type",
         "rawType": "object",
         "type": "string"
        }
       ],
       "ref": "b79a4e09-1a1b-4f93-a6ce-91ec4e3d193c",
       "rows": [
        [
         "0",
         "56",
         "56",
         "1",
         "77.21853189426848",
         "0",
         "B"
        ],
        [
         "1",
         "46",
         "31",
         "1",
         "58.605438246922134",
         "1",
         "B"
        ],
        [
         "2",
         "32",
         "74",
         "1",
         "69.17587221544434",
         "1",
         "B"
        ],
        [
         "3",
         "25",
         "32",
         "0",
         "18.430413712665604",
         "0",
         "C"
        ],
        [
         "4",
         "38",
         "42",
         "1",
         "49.65409699692031",
         "1",
         "C"
        ]
       ],
       "shape": {
        "columns": 6,
        "rows": 5
       }
      },
      "text/html": [
       "<div>\n",
       "<style scoped>\n",
       "    .dataframe tbody tr th:only-of-type {\n",
       "        vertical-align: middle;\n",
       "    }\n",
       "\n",
       "    .dataframe tbody tr th {\n",
       "        vertical-align: top;\n",
       "    }\n",
       "\n",
       "    .dataframe thead th {\n",
       "        text-align: right;\n",
       "    }\n",
       "</style>\n",
       "<table border=\"1\" class=\"dataframe\">\n",
       "  <thead>\n",
       "    <tr style=\"text-align: right;\">\n",
       "      <th></th>\n",
       "      <th>Age</th>\n",
       "      <th>Income_k$</th>\n",
       "      <th>Education_Level</th>\n",
       "      <th>Spending_Score</th>\n",
       "      <th>Purchased</th>\n",
       "      <th>Customer_Type</th>\n",
       "    </tr>\n",
       "  </thead>\n",
       "  <tbody>\n",
       "    <tr>\n",
       "      <th>0</th>\n",
       "      <td>56</td>\n",
       "      <td>56</td>\n",
       "      <td>1</td>\n",
       "      <td>77.218532</td>\n",
       "      <td>0</td>\n",
       "      <td>B</td>\n",
       "    </tr>\n",
       "    <tr>\n",
       "      <th>1</th>\n",
       "      <td>46</td>\n",
       "      <td>31</td>\n",
       "      <td>1</td>\n",
       "      <td>58.605438</td>\n",
       "      <td>1</td>\n",
       "      <td>B</td>\n",
       "    </tr>\n",
       "    <tr>\n",
       "      <th>2</th>\n",
       "      <td>32</td>\n",
       "      <td>74</td>\n",
       "      <td>1</td>\n",
       "      <td>69.175872</td>\n",
       "      <td>1</td>\n",
       "      <td>B</td>\n",
       "    </tr>\n",
       "    <tr>\n",
       "      <th>3</th>\n",
       "      <td>25</td>\n",
       "      <td>32</td>\n",
       "      <td>0</td>\n",
       "      <td>18.430414</td>\n",
       "      <td>0</td>\n",
       "      <td>C</td>\n",
       "    </tr>\n",
       "    <tr>\n",
       "      <th>4</th>\n",
       "      <td>38</td>\n",
       "      <td>42</td>\n",
       "      <td>1</td>\n",
       "      <td>49.654097</td>\n",
       "      <td>1</td>\n",
       "      <td>C</td>\n",
       "    </tr>\n",
       "  </tbody>\n",
       "</table>\n",
       "</div>"
      ],
      "text/plain": [
       "   Age  Income_k$  Education_Level  Spending_Score  Purchased Customer_Type\n",
       "0   56         56                1       77.218532          0             B\n",
       "1   46         31                1       58.605438          1             B\n",
       "2   32         74                1       69.175872          1             B\n",
       "3   25         32                0       18.430414          0             C\n",
       "4   38         42                1       49.654097          1             C"
      ]
     },
     "execution_count": 6,
     "metadata": {},
     "output_type": "execute_result"
    }
   ],
   "source": [
    "df.head()"
   ]
  },
  {
   "cell_type": "code",
   "execution_count": 7,
   "id": "f5241fbe",
   "metadata": {},
   "outputs": [
    {
     "data": {
      "application/vnd.microsoft.datawrangler.viewer.v0+json": {
       "columns": [
        {
         "name": "index",
         "rawType": "object",
         "type": "string"
        },
        {
         "name": "0",
         "rawType": "int64",
         "type": "integer"
        }
       ],
       "ref": "5d058b11-c11a-4252-93de-5a714526cd01",
       "rows": [
        [
         "Age",
         "0"
        ],
        [
         "Income_k$",
         "0"
        ],
        [
         "Education_Level",
         "0"
        ],
        [
         "Spending_Score",
         "0"
        ],
        [
         "Purchased",
         "0"
        ],
        [
         "Customer_Type",
         "0"
        ]
       ],
       "shape": {
        "columns": 1,
        "rows": 6
       }
      },
      "text/plain": [
       "Age                0\n",
       "Income_k$          0\n",
       "Education_Level    0\n",
       "Spending_Score     0\n",
       "Purchased          0\n",
       "Customer_Type      0\n",
       "dtype: int64"
      ]
     },
     "execution_count": 7,
     "metadata": {},
     "output_type": "execute_result"
    }
   ],
   "source": [
    "# check the null values\n",
    "df.isnull().sum()"
   ]
  },
  {
   "cell_type": "markdown",
   "id": "616cd06d",
   "metadata": {},
   "source": [
    "# Perfomr EDA"
   ]
  },
  {
   "cell_type": "code",
   "execution_count": 8,
   "id": "4594282f",
   "metadata": {},
   "outputs": [
    {
     "data": {
      "image/png": "[encoded data removed]",
      "text/plain": [
       "<Figure size 640x480 with 1 Axes>"
      ]
     },
     "metadata": {},
     "output_type": "display_data"
    }
   ],
   "source": [
    "plt.hist(df['Spending_Score'],bins=30,edgecolor='k')\n",
    "plt.show()"
   ]
  },
  {
   "cell_type": "code",
   "execution_count": 9,
   "id": "0ffd336b",
   "metadata": {},
   "outputs": [
    {
     "data": {
      "text/plain": [
       "<Axes: xlabel='Age', ylabel='Spending_Score'>"
      ]
     },
     "execution_count": 9,
     "metadata": {},
     "output_type": "execute_result"
    },
    {
     "data": {
      "image/png": "[encoded data removed]",
      "text/plain": [
       "<Figure size 640x480 with 1 Axes>"
      ]
     },
     "metadata": {},
     "output_type": "display_data"
    }
   ],
   "source": [
    "# age vs spending Score\n",
    "sns.scatterplot(x=\"Age\", y=\"Spending_Score\", data=df)"
   ]
  },
  {
   "cell_type": "code",
   "execution_count": 10,
   "id": "03556509",
   "metadata": {},
   "outputs": [
    {
     "data": {
      "text/plain": [
       "<Axes: xlabel='Income_k$', ylabel='Spending_Score'>"
      ]
     },
     "execution_count": 10,
     "metadata": {},
     "output_type": "execute_result"
    },
    {
     "data": {
      "image/png": "[encoded data removed]",
      "text/plain": [
       "<Figure size 640x480 with 1 Axes>"
      ]
     },
     "metadata": {},
     "output_type": "display_data"
    }
   ],
   "source": [
    "sns.scatterplot(x=\"Income_k$\", y=\"Spending_Score\", data=df)\n"
   ]
  },
  {
   "cell_type": "code",
   "execution_count": 11,
   "id": "b455224f",
   "metadata": {},
   "outputs": [
    {
     "data": {
      "text/plain": [
       "<Axes: xlabel='Purchased', ylabel='Spending_Score'>"
      ]
     },
     "execution_count": 11,
     "metadata": {},
     "output_type": "execute_result"
    },
    {
     "data": {
      "image/png": "[encoded data removed]",
      "text/plain": [
       "<Figure size 640x480 with 1 Axes>"
      ]
     },
     "metadata": {},
     "output_type": "display_data"
    }
   ],
   "source": [
    "sns.scatterplot(x=\"Purchased\",y=\"Spending_Score\",data=df)"
   ]
  },
  {
   "cell_type": "code",
   "execution_count": 12,
   "id": "9fd43827",
   "metadata": {},
   "outputs": [
    {
     "data": {
      "text/plain": [
       "<Axes: xlabel='Education_Level', ylabel='Spending_Score'>"
      ]
     },
     "execution_count": 12,
     "metadata": {},
     "output_type": "execute_result"
    },
    {
     "data": {
      "image/png": "[encoded data removed]",
      "text/plain": [
       "<Figure size 640x480 with 1 Axes>"
      ]
     },
     "metadata": {},
     "output_type": "display_data"
    }
   ],
   "source": [
    "sns.scatterplot(x='Education_Level',y=\"Spending_Score\",data=df)"
   ]
  },
  {
   "cell_type": "code",
   "execution_count": 13,
   "id": "fcda9bfd",
   "metadata": {},
   "outputs": [
    {
     "data": {
      "image/png": "[encoded data removed]",
      "text/plain": [
       "<Figure size 640x480 with 1 Axes>"
      ]
     },
     "metadata": {},
     "output_type": "display_data"
    }
   ],
   "source": [
    "sns.boxplot(x='Customer_Type',y='Spending_Score',data=df)\n",
    "plt.title(\"Spending Score vs Customer Type\")\n",
    "plt.show()"
   ]
  },
  {
   "cell_type": "code",
   "execution_count": 14,
   "id": "36301122",
   "metadata": {},
   "outputs": [
    {
     "data": {
      "image/png": "[encoded data removed]",
      "text/plain": [
       "<Figure size 640x480 with 1 Axes>"
      ]
     },
     "metadata": {},
     "output_type": "display_data"
    }
   ],
   "source": [
    "sns.barplot(x=\"Customer_Type\", y=\"Spending_Score\", data=df, estimator=\"mean\")\n",
    "plt.title(\"Average Spending Score by Customer Type\")\n",
    "plt.show()"
   ]
  },
  {
   "cell_type": "code",
   "execution_count": 15,
   "id": "cb746966",
   "metadata": {},
   "outputs": [
    {
     "data": {
      "text/plain": [
       "<Axes: >"
      ]
     },
     "execution_count": 15,
     "metadata": {},
     "output_type": "execute_result"
    },
    {
     "data": {
      "image/png": "[encoded data removed]",
      "text/plain": [
       "<Figure size 640x480 with 2 Axes>"
      ]
     },
     "metadata": {},
     "output_type": "display_data"
    }
   ],
   "source": [
    "corr=df.corr(numeric_only=True)\n",
    "sns.heatmap(corr,annot=True,cmap=\"coolwarm\")"
   ]
  },
  {
   "cell_type": "code",
   "execution_count": 16,
   "id": "6091f9b8",
   "metadata": {},
   "outputs": [],
   "source": [
    "# create dummy for customer type\n",
    "df_encoded = pd.get_dummies(df, columns=[\"Customer_Type\"],dtype=int, drop_first=True)\n"
   ]
  },
  {
   "cell_type": "code",
   "execution_count": 17,
   "id": "db7c9316",
   "metadata": {},
   "outputs": [
    {
     "data": {
      "application/vnd.microsoft.datawrangler.viewer.v0+json": {
       "columns": [
        {
         "name": "index",
         "rawType": "int64",
         "type": "integer"
        },
        {
         "name": "Age",
         "rawType": "int64",
         "type": "integer"
        },
        {
         "name": "Income_k$",
         "rawType": "int64",
         "type": "integer"
        },
        {
         "name": "Education_Level",
         "rawType": "int64",
         "type": "integer"
        },
        {
         "name": "Spending_Score",
         "rawType": "float64",
         "type": "float"
        },
        {
         "name": "Purchased",
         "rawType": "int64",
         "type": "integer"
        },
        {
         "name": "Customer_Type_B",
         "rawType": "int64",
         "type": "integer"
        },
        {
         "name": "Customer_Type_C",
         "rawType": "int64",
         "type": "integer"
        }
       ],
       "ref": "2c27ec29-1b40-4bb7-98ee-879737f1a0ec",
       "rows": [
        [
         "0",
         "56",
         "56",
         "1",
         "77.21853189426848",
         "0",
         "1",
         "0"
        ],
        [
         "1",
         "46",
         "31",
         "1",
         "58.605438246922134",
         "1",
         "1",
         "0"
        ],
        [
         "2",
         "32",
         "74",
         "1",
         "69.17587221544434",
         "1",
         "1",
         "0"
        ],
        [
         "3",
         "25",
         "32",
         "0",
         "18.430413712665604",
         "0",
         "0",
         "1"
        ],
        [
         "4",
         "38",
         "42",
         "1",
         "49.65409699692031",
         "1",
         "0",
         "1"
        ]
       ],
       "shape": {
        "columns": 7,
        "rows": 5
       }
      },
      "text/html": [
       "<div>\n",
       "<style scoped>\n",
       "    .dataframe tbody tr th:only-of-type {\n",
       "        vertical-align: middle;\n",
       "    }\n",
       "\n",
       "    .dataframe tbody tr th {\n",
       "        vertical-align: top;\n",
       "    }\n",
       "\n",
       "    .dataframe thead th {\n",
       "        text-align: right;\n",
       "    }\n",
       "</style>\n",
       "<table border=\"1\" class=\"dataframe\">\n",
       "  <thead>\n",
       "    <tr style=\"text-align: right;\">\n",
       "      <th></th>\n",
       "      <th>Age</th>\n",
       "      <th>Income_k$</th>\n",
       "      <th>Education_Level</th>\n",
       "      <th>Spending_Score</th>\n",
       "      <th>Purchased</th>\n",
       "      <th>Customer_Type_B</th>\n",
       "      <th>Customer_Type_C</th>\n",
       "    </tr>\n",
       "  </thead>\n",
       "  <tbody>\n",
       "    <tr>\n",
       "      <th>0</th>\n",
       "      <td>56</td>\n",
       "      <td>56</td>\n",
       "      <td>1</td>\n",
       "      <td>77.218532</td>\n",
       "      <td>0</td>\n",
       "      <td>1</td>\n",
       "      <td>0</td>\n",
       "    </tr>\n",
       "    <tr>\n",
       "      <th>1</th>\n",
       "      <td>46</td>\n",
       "      <td>31</td>\n",
       "      <td>1</td>\n",
       "      <td>58.605438</td>\n",
       "      <td>1</td>\n",
       "      <td>1</td>\n",
       "      <td>0</td>\n",
       "    </tr>\n",
       "    <tr>\n",
       "      <th>2</th>\n",
       "      <td>32</td>\n",
       "      <td>74</td>\n",
       "      <td>1</td>\n",
       "      <td>69.175872</td>\n",
       "      <td>1</td>\n",
       "      <td>1</td>\n",
       "      <td>0</td>\n",
       "    </tr>\n",
       "    <tr>\n",
       "      <th>3</th>\n",
       "      <td>25</td>\n",
       "      <td>32</td>\n",
       "      <td>0</td>\n",
       "      <td>18.430414</td>\n",
       "      <td>0</td>\n",
       "      <td>0</td>\n",
       "      <td>1</td>\n",
       "    </tr>\n",
       "    <tr>\n",
       "      <th>4</th>\n",
       "      <td>38</td>\n",
       "      <td>42</td>\n",
       "      <td>1</td>\n",
       "      <td>49.654097</td>\n",
       "      <td>1</td>\n",
       "      <td>0</td>\n",
       "      <td>1</td>\n",
       "    </tr>\n",
       "  </tbody>\n",
       "</table>\n",
       "</div>"
      ],
      "text/plain": [
       "   Age  Income_k$  Education_Level  Spending_Score  Purchased  \\\n",
       "0   56         56                1       77.218532          0   \n",
       "1   46         31                1       58.605438          1   \n",
       "2   32         74                1       69.175872          1   \n",
       "3   25         32                0       18.430414          0   \n",
       "4   38         42                1       49.654097          1   \n",
       "\n",
       "   Customer_Type_B  Customer_Type_C  \n",
       "0                1                0  \n",
       "1                1                0  \n",
       "2                1                0  \n",
       "3                0                1  \n",
       "4                0                1  "
      ]
     },
     "execution_count": 17,
     "metadata": {},
     "output_type": "execute_result"
    }
   ],
   "source": [
    "df_encoded.head()"
   ]
  },
  {
   "cell_type": "markdown",
   "id": "278cb823",
   "metadata": {},
   "source": [
    "#### Model Building"
   ]
  },
  {
   "cell_type": "code",
   "execution_count": 18,
   "id": "45c079b2",
   "metadata": {},
   "outputs": [
    {
     "data": {
      "text/plain": [
       "(500, 7)"
      ]
     },
     "execution_count": 18,
     "metadata": {},
     "output_type": "execute_result"
    }
   ],
   "source": [
    "df_encoded.shape"
   ]
  },
  {
   "cell_type": "code",
   "execution_count": 19,
   "id": "b291fd30",
   "metadata": {},
   "outputs": [],
   "source": [
    "np.random.seed(0)\n",
    "df_test,df_train=train_test_split(df_encoded,test_size=0.3,random_state=100)"
   ]
  },
  {
   "cell_type": "code",
   "execution_count": 20,
   "id": "65276036",
   "metadata": {},
   "outputs": [
    {
     "data": {
      "text/plain": [
       "(350, 7)"
      ]
     },
     "execution_count": 20,
     "metadata": {},
     "output_type": "execute_result"
    }
   ],
   "source": [
    "df_test.shape"
   ]
  },
  {
   "cell_type": "code",
   "execution_count": 21,
   "id": "95a22c8f",
   "metadata": {},
   "outputs": [
    {
     "data": {
      "text/plain": [
       "(150, 7)"
      ]
     },
     "execution_count": 21,
     "metadata": {},
     "output_type": "execute_result"
    }
   ],
   "source": [
    "df_train.shape\n"
   ]
  },
  {
   "cell_type": "code",
   "execution_count": 22,
   "id": "7ec447fa",
   "metadata": {},
   "outputs": [],
   "source": [
    "# create test X and Y\n",
    "y_train=df_train.pop(\"Spending_Score\")\n",
    "X_train=df_train"
   ]
  },
  {
   "cell_type": "markdown",
   "id": "bb6b3243",
   "metadata": {},
   "source": [
    "## Build Model lr_1"
   ]
  },
  {
   "cell_type": "code",
   "execution_count": 23,
   "id": "830f222a",
   "metadata": {},
   "outputs": [],
   "source": [
    "\n",
    "X_train_1 = sm.add_constant(X_train[['Income_k$']])"
   ]
  },
  {
   "cell_type": "code",
   "execution_count": 24,
   "id": "ad2f98c6",
   "metadata": {},
   "outputs": [],
   "source": [
    "lr_1=sm.OLS(y_train,X_train_1).fit()"
   ]
  },
  {
   "cell_type": "code",
   "execution_count": 25,
   "id": "4bbce009",
   "metadata": {},
   "outputs": [
    {
     "data": {
      "application/vnd.microsoft.datawrangler.viewer.v0+json": {
       "columns": [
        {
         "name": "index",
         "rawType": "object",
         "type": "string"
        },
        {
         "name": "0",
         "rawType": "float64",
         "type": "float"
        }
       ],
       "ref": "63d8be9b-cc8c-4acc-96b2-ee925e77c3b9",
       "rows": [
        [
         "const",
         "15.253544687280788"
        ],
        [
         "Income_k$",
         "0.7423897758421116"
        ]
       ],
       "shape": {
        "columns": 1,
        "rows": 2
       }
      },
      "text/plain": [
       "const        15.253545\n",
       "Income_k$     0.742390\n",
       "dtype: float64"
      ]
     },
     "execution_count": 25,
     "metadata": {},
     "output_type": "execute_result"
    }
   ],
   "source": [
    "lr_1.params"
   ]
  },
  {
   "cell_type": "code",
   "execution_count": 26,
   "id": "a0b9083a",
   "metadata": {},
   "outputs": [
    {
     "name": "stdout",
     "output_type": "stream",
     "text": [
      "                            OLS Regression Results                            \n",
      "==============================================================================\n",
      "Dep. Variable:         Spending_Score   R-squared:                       0.814\n",
      "Model:                            OLS   Adj. R-squared:                  0.813\n",
      "Method:                 Least Squares   F-statistic:                     649.0\n",
      "Date:                Wed, 03 Sep 2025   Prob (F-statistic):           5.67e-56\n",
      "Time:                        15:22:26   Log-Likelihood:                -573.66\n",
      "No. Observations:                 150   AIC:                             1151.\n",
      "Df Residuals:                     148   BIC:                             1157.\n",
      "Df Model:                           1                                         \n",
      "Covariance Type:            nonrobust                                         \n",
      "==============================================================================\n",
      "                 coef    std err          t      P>|t|      [0.025      0.975]\n",
      "------------------------------------------------------------------------------\n",
      "const         15.2535      2.193      6.957      0.000      10.921      19.586\n",
      "Income_k$      0.7424      0.029     25.475      0.000       0.685       0.800\n",
      "==============================================================================\n",
      "Omnibus:                        0.237   Durbin-Watson:                   1.854\n",
      "Prob(Omnibus):                  0.888   Jarque-Bera (JB):                0.102\n",
      "Skew:                           0.061   Prob(JB):                        0.950\n",
      "Kurtosis:                       3.037   Cond. No.                         181.\n",
      "==============================================================================\n",
      "\n",
      "Notes:\n",
      "[1] Standard Errors assume that the covariance matrix of the errors is correctly specified.\n"
     ]
    }
   ],
   "source": [
    "print(lr_1.summary())\n"
   ]
  },
  {
   "cell_type": "markdown",
   "id": "317c5577",
   "metadata": {},
   "source": [
    "#### Prediction on training Data"
   ]
  },
  {
   "cell_type": "code",
   "execution_count": 27,
   "id": "ae0e414a",
   "metadata": {},
   "outputs": [],
   "source": [
    "y_train_1_pred=lr_1.predict(sm.add_constant(X_train[['Income_k$']]))\n"
   ]
  },
  {
   "cell_type": "markdown",
   "id": "1f5d6db7",
   "metadata": {},
   "source": [
    "#### Metrics Of Training Data"
   ]
  },
  {
   "cell_type": "code",
   "execution_count": 28,
   "id": "b05200b4",
   "metadata": {},
   "outputs": [
    {
     "data": {
      "image/png": "[encoded data removed]",
      "text/plain": [
       "<Figure size 500x500 with 1 Axes>"
      ]
     },
     "metadata": {},
     "output_type": "display_data"
    }
   ],
   "source": [
    "# error distribution\n",
    "res=y_train-y_train_1_pred\n",
    "sns.displot(res)\n",
    "plt.title('Error Terms', fontsize=20)\n",
    "plt.xlabel('Errors', fontsize=18)\n",
    "plt.show()"
   ]
  },
  {
   "cell_type": "code",
   "execution_count": 29,
   "id": "ab369f1f",
   "metadata": {},
   "outputs": [
    {
     "ename": "NameError",
     "evalue": "name 'train_mean' is not defined",
     "output_type": "error",
     "traceback": [
      "\u001b[0;31m---------------------------------------------------------------------------\u001b[0m",
      "\u001b[0;31mNameError\u001b[0m                                 Traceback (most recent call last)",
      "Cell \u001b[0;32mIn[29], line 3\u001b[0m\n\u001b[1;32m      1\u001b[0m \u001b[38;5;66;03m# mean of y_train data\u001b[39;00m\n\u001b[1;32m      2\u001b[0m train_1_mean\u001b[38;5;241m=\u001b[39mnp\u001b[38;5;241m.\u001b[39mmean(y_train)\n\u001b[0;32m----> 3\u001b[0m \u001b[38;5;28mprint\u001b[39m(\u001b[38;5;124mf\u001b[39m\u001b[38;5;124m\"\u001b[39m\u001b[38;5;124mMean value of train data: \u001b[39m\u001b[38;5;132;01m{\u001b[39;00m\u001b[43mtrain_mean\u001b[49m\u001b[38;5;132;01m}\u001b[39;00m\u001b[38;5;124m\"\u001b[39m)\n",
      "\u001b[0;31mNameError\u001b[0m: name 'train_mean' is not defined"
     ]
    }
   ],
   "source": [
    "# mean of y_train data\n",
    "train_1_mean=np.mean(y_train)\n",
    "print(f\"Mean value of train data: {train_mean}\")"
   ]
  },
  {
   "cell_type": "code",
   "execution_count": null,
   "id": "b9283324",
   "metadata": {},
   "outputs": [
    {
     "name": "stdout",
     "output_type": "stream",
     "text": [
      "mean squared error of train data: 66.05775168074264\n"
     ]
    }
   ],
   "source": [
    "# mean squared error of train data\n",
    "train_1_mse = mean_squared_error(y_train, y_train_pred)\n",
    "print('mean squared error of train data:' ,train_1_mean)\n"
   ]
  },
  {
   "cell_type": "code",
   "execution_count": null,
   "id": "9bc1795c",
   "metadata": {},
   "outputs": [
    {
     "name": "stdout",
     "output_type": "stream",
     "text": [
      "rmse Score of train data: 7.812924277095172\n"
     ]
    }
   ],
   "source": [
    "# root mean squared error of train data\n",
    "train_1_rmse = np.sqrt(train_1_mse)\n",
    "print(\"rmse Score of train data:\",train_1_rmse)"
   ]
  },
  {
   "cell_type": "code",
   "execution_count": null,
   "id": "1823fc6f",
   "metadata": {},
   "outputs": [
    {
     "name": "stdout",
     "output_type": "stream",
     "text": [
      "on average, model lr_1 predictions are off by ~7.8 spending\n"
     ]
    }
   ],
   "source": [
    "print(f\"on average, model lr_1 predictions are off by ~{train_1_rmse:.1f} spending\")"
   ]
  },
  {
   "cell_type": "code",
   "execution_count": null,
   "id": "9a6b5f9c",
   "metadata": {},
   "outputs": [
    {
     "data": {
      "image/png": "[encoded data removed]",
      "text/plain": [
       "<Figure size 1000x600 with 1 Axes>"
      ]
     },
     "metadata": {},
     "output_type": "display_data"
    }
   ],
   "source": [
    "fig, ax = plt.subplots(figsize=(10, 6))\n",
    "\n",
    "# Plot the individual data points as a scatter plot\n",
    "ax.scatter(range(len(y_train)), y_train, color='blue', label='Data Points', zorder=2)\n",
    "\n",
    "# Plot a horizontal line at the mean value\n",
    "ax.axhline(y=train_1_mean, color='red', linestyle='--', linewidth=2, label=f'Mean = {train_1_mean:.2f}')\n",
    "\n",
    "# Add labels and a title\n",
    "ax.set_xlabel('Data Point Index')\n",
    "ax.set_ylabel('Data Values')\n",
    "ax.set_title('Visualization of Total Sum of Squares (TSS)')\n",
    "\n",
    "# Set y-axis limits to provide better context\n",
    "ax.set_ylim(min(y_train) - 5, max(y_train) + 5)\n",
    "\n",
    "# Add a legend and grid\n",
    "ax.legend()\n",
    "ax.grid(True, linestyle='--', alpha=0.6)"
   ]
  },
  {
   "cell_type": "markdown",
   "id": "52ae8b3c",
   "metadata": {},
   "source": [
    "##### Above plot shows that the data is widely spread from average data point"
   ]
  },
  {
   "cell_type": "markdown",
   "id": "1f016440",
   "metadata": {},
   "source": [
    "#### Total Sum of Squares (TSS) / Total Variation  \n",
    "\n",
    "**Definition:**  \n",
    "TSS measures how much individual data points (e.g., spendings) vary from their average (mean).  \n",
    "It shows the overall variability in the data.  \n",
    "\n",
    "---\n",
    "\n",
    "#### How it works:  \n",
    "\n",
    "- We calculate the difference between each data point and the **average value**.  \n",
    "- Square these differences.  \n",
    "- Add them all together.  \n",
    "- The result is the **TSS**.  \n",
    "\n",
    "---\n",
    "\n",
    "#### Interpretation  \n",
    "\n",
    "- **Large Differences = Large TSS**  \n",
    "  - If the individual spending amounts are very different from the average spending,  \n",
    "    the TSS will be a **large number**.  \n",
    "  - This indicates **high variability** (big spread in the data).  \n",
    "\n",
    "- **Small Differences = Small TSS**  \n",
    "  - If all the spending amounts are very close to the average,  \n",
    "    the TSS will be a **small number**.  \n",
    "  - This indicates **low variability** (data points are very similar).  \n",
    "\n",
    "---\n",
    "\n",
    "#### Intuition  \n",
    "\n",
    "- **High TSS** → People’s spendings vary a lot.  \n",
    "- **Low TSS** → Everyone spends about the same amount.  \n"
   ]
  },
  {
   "cell_type": "code",
   "execution_count": null,
   "id": "4c4dcfa8",
   "metadata": {},
   "outputs": [
    {
     "name": "stdout",
     "output_type": "stream",
     "text": [
      "total variation of train data: 99219.30403575004\n"
     ]
    }
   ],
   "source": [
    "# total sum of sqaure or total variation\n",
    "train_1_TSS = np.sum((y_train - train_mean)**2)\n",
    "print(\"total variation of train data:\", train_1_TSS)"
   ]
  },
  {
   "cell_type": "markdown",
   "id": "9a86e1b8",
   "metadata": {},
   "source": [
    "#### Residual Sum of Squares (RSS)  \n",
    "\n",
    "**Definition:**  \n",
    "RSS measures the amount of variation in the data that the model **fails to explain**.  \n",
    "It is the sum of squared differences between the **actual values** and the **predicted values** from the model.  \n",
    "\n",
    "---\n",
    "\n",
    "#### Formula  \n",
    "\n",
    "$$\n",
    "RSS = \\sum (y_i - \\hat{y}_i)^2\n",
    "$$\n",
    "\n",
    "Where:  \n",
    "- \\(y_i\\) = actual value  \n",
    "- $\\hat{y}_i$ = predicted value by the model  \n",
    "\n",
    "---\n",
    "\n",
    "#### Interpretation  \n",
    "\n",
    "- **Small RSS** → Predictions are very close to actual values → model fits well.  \n",
    "- **Large RSS** → Predictions are far from actual values → model fits poorly.  \n",
    "\n",
    "---\n",
    "\n",
    "#### Intuition  \n",
    "\n",
    "- **Low RSS** → The model captures most of the data’s variation.  \n",
    "- **High RSS** → The model misses a lot of variation (poor fit).  \n"
   ]
  },
  {
   "cell_type": "code",
   "execution_count": null,
   "id": "d4655929",
   "metadata": {},
   "outputs": [
    {
     "name": "stdout",
     "output_type": "stream",
     "text": [
      "RSS value of train data: 18425.751769200993\n"
     ]
    }
   ],
   "source": [
    "# RSS residual sum of sqaure\n",
    "train_1_RSS=np.sum((y_train-y_train_1_pred)**2)\n",
    "print(f\"RSS value of train data: {train_1_RSS}\")"
   ]
  },
  {
   "cell_type": "code",
   "execution_count": null,
   "id": "02bb1278",
   "metadata": {},
   "outputs": [
    {
     "name": "stdout",
     "output_type": "stream",
     "text": [
      "R2 score of train data: 0.8142926726984303\n"
     ]
    }
   ],
   "source": [
    "# R2 score of train data\n",
    "print(\"R2 score of train data:\",r2_score(y_train, y_train_1_pred))"
   ]
  },
  {
   "cell_type": "markdown",
   "id": "8f18f2cd",
   "metadata": {},
   "source": [
    "#### Conclusion on Training Data (Using only the feature **Income_k$**)\n",
    "\n",
    "##### RMSE Interpretation\n",
    "\n",
    "- The **Root Mean Squared Error (RMSE)** on the training data is **11.0**.  \n",
    "\n",
    "**Meaning:**  \n",
    "- On average, model lr_1 predictions on training data differ from the actual values by about **11.0 points**.  \n",
    "- Example:  \n",
    "  - If the model lr_1 predicts a **Spending Score = 78** on training data,  \n",
    "  - The actual score is likely to fall within the range:  \n",
    "\n",
    "    **78 ± 11.0 → [66.0 , 89.0]**\n",
    "\n",
    "##### Key Insight \n",
    "- A **smaller RMSE** indicates a more accurate model.  \n",
    "\n",
    "##### R² Interpretation  \n",
    "\n",
    "- **TSS (Total Sum of Squares / total variation):** `99,219.3040`  \n",
    "- **RSS (Residual Sum of Squares / unexplained variation):** `18,425.7518`  \n",
    "- **Explained variation (TSS - RSS):** `80,793.5523`  \n",
    "\n",
    "$$\n",
    "R^2 = 1 - \\frac{RSS}{TSS} = 1 - \\frac{18,425.7518}{99,219.3040} \\approx 0.81\n",
    "$$\n",
    "\n",
    "\n",
    "✅ The model lr_1 explains about **81% of the total variation** in the training data.  \n",
    "❌ About **19% of the variation** is not explained by the model lr_1.  \n",
    "\n"
   ]
  },
  {
   "cell_type": "code",
   "execution_count": null,
   "id": "a31596c8",
   "metadata": {},
   "outputs": [],
   "source": [
    "# create test Data\n",
    "y_test=df_test.pop('Spending_Score')\n",
    "X_test=df_test"
   ]
  },
  {
   "cell_type": "code",
   "execution_count": null,
   "id": "58d3485f",
   "metadata": {},
   "outputs": [],
   "source": [
    "y_test_1_pred=lr_1.predict(sm.add_constant(X_test[['Income_k$']]))"
   ]
  },
  {
   "cell_type": "markdown",
   "id": "0a7f76bd",
   "metadata": {},
   "source": [
    "#### Metrics of Test Data"
   ]
  },
  {
   "cell_type": "code",
   "execution_count": null,
   "id": "69c4fbb3",
   "metadata": {},
   "outputs": [
    {
     "name": "stdout",
     "output_type": "stream",
     "text": [
      "Mean value of test data: 65.2052497156348\n"
     ]
    }
   ],
   "source": [
    "# mean of y_test data\n",
    "test_1_mean=np.mean(y_test)\n",
    "print(f\"Mean value of test data: {test_1_mean}\")"
   ]
  },
  {
   "cell_type": "code",
   "execution_count": null,
   "id": "a2de6698",
   "metadata": {},
   "outputs": [
    {
     "name": "stdout",
     "output_type": "stream",
     "text": [
      "mean squared error of test data: 124.58696696094907\n"
     ]
    }
   ],
   "source": [
    "# mean sqaured error of test data\n",
    "test_1_mse = mean_squared_error(y_test, y_test_1_pred)\n",
    "print('mean squared error of test data:' ,test_1_mse)"
   ]
  },
  {
   "cell_type": "code",
   "execution_count": null,
   "id": "40bc42a3",
   "metadata": {},
   "outputs": [
    {
     "name": "stdout",
     "output_type": "stream",
     "text": [
      "RMSE score of test data: 11.161853204595959\n"
     ]
    }
   ],
   "source": [
    "test_1_rmse = np.sqrt(test_1_mse)\n",
    "print(\"RMSE score of test data:\",test_1_rmse)"
   ]
  },
  {
   "cell_type": "code",
   "execution_count": null,
   "id": "aa4af5d9",
   "metadata": {},
   "outputs": [
    {
     "name": "stdout",
     "output_type": "stream",
     "text": [
      "TSS value of test data: 198589.76506759826\n"
     ]
    }
   ],
   "source": [
    "test_1_TSS = np.sum((y_test - test_1_mean)**2)\n",
    "print(\"TSS value of test data:\", test_1_TSS)"
   ]
  },
  {
   "cell_type": "code",
   "execution_count": null,
   "id": "33588373",
   "metadata": {},
   "outputs": [
    {
     "name": "stdout",
     "output_type": "stream",
     "text": [
      "RSS value of test data: 43605.43843633217\n"
     ]
    }
   ],
   "source": [
    "# RSS residual sum of sqaure\n",
    "test_1_RSS=np.sum((y_test-y_test_1_pred)**2)\n",
    "print(f\"RSS value of test data: {test_1_RSS}\")"
   ]
  },
  {
   "cell_type": "code",
   "execution_count": null,
   "id": "7c8349ee",
   "metadata": {},
   "outputs": [
    {
     "name": "stdout",
     "output_type": "stream",
     "text": [
      "R2 score of test data: 0.7804245429189705\n"
     ]
    }
   ],
   "source": [
    "# R2 score of Test data\n",
    "train_1_r2=r2_score(y_test, y_test_1_pred)\n",
    "print(\"R2 score of test data:\",train_1_r2)"
   ]
  },
  {
   "cell_type": "code",
   "execution_count": null,
   "id": "9b4c9fa2",
   "metadata": {},
   "outputs": [
    {
     "name": "stdout",
     "output_type": "stream",
     "text": [
      "model lr_1 was able to explain 78.0% variation on the test data\n"
     ]
    }
   ],
   "source": [
    "print(f\"model lr_1 was able to explain {train_1_r2*100:.1f}% variation on the test data\")"
   ]
  },
  {
   "cell_type": "markdown",
   "id": "300f3cd1",
   "metadata": {},
   "source": [
    "#### Conclusion on Test Data (Using only the feature **Income_k$**)\n",
    "\n",
    "##### RMSE Interpretation\n",
    "\n",
    "- The **Root Mean Squared Error (RMSE)** on the test data is **11.1**.  \n",
    "\n",
    "**Meaning:**  \n",
    "- On average, model lr_1 predictions on test data differ from the actual values by about **11.1 points**.  \n",
    "- Example:  \n",
    "  - If the model lr_1 predicts a **Spending Score = 78** on test data,  \n",
    "  - The actual score is likely to fall within the range:  \n",
    "\n",
    "    **78 ± 11.1 → [66.9 , 89.1]**\n",
    "\n",
    "##### Key Insight \n",
    "- A **smaller RMSE** indicates a more accurate model.  \n",
    "\n",
    "##### R² Interpretation  \n",
    "\n",
    "- **TSS (Total Sum of Squares / total variation):** `198589.76506759826`  \n",
    "- **RSS (Residual Sum of Squares / unexplained variation):** `43605.43843633217`  \n",
    "- **Explained variation (TSS - RSS):** `154984.3266312661`  \n",
    "\n",
    "$$\n",
    "R^2 = 1 - \\frac{RSS}{TSS} = 1 - \\frac{43605.43843633217}{198589.76506759826} \\approx 0.78\n",
    "$$\n",
    "\n",
    "\n",
    "✅ The model lr_1 explains about **78% of the total variation** in the test data.  \n",
    "❌ About **22% of the variation** is not explained by the model. \n"
   ]
  },
  {
   "cell_type": "markdown",
   "id": "48969805",
   "metadata": {},
   "source": [
    "## Build Model lr_2"
   ]
  },
  {
   "cell_type": "code",
   "execution_count": null,
   "id": "f886d6aa",
   "metadata": {},
   "outputs": [
    {
     "data": {
      "application/vnd.microsoft.datawrangler.viewer.v0+json": {
       "columns": [
        {
         "name": "index",
         "rawType": "int64",
         "type": "integer"
        },
        {
         "name": "Age",
         "rawType": "int64",
         "type": "integer"
        },
        {
         "name": "Income_k$",
         "rawType": "int64",
         "type": "integer"
        },
        {
         "name": "Education_Level",
         "rawType": "int64",
         "type": "integer"
        },
        {
         "name": "Purchased",
         "rawType": "int64",
         "type": "integer"
        },
        {
         "name": "Customer_Type_B",
         "rawType": "int64",
         "type": "integer"
        },
        {
         "name": "Customer_Type_C",
         "rawType": "int64",
         "type": "integer"
        }
       ],
       "ref": "edbbadb5-4b68-4595-9f73-8e646345900b",
       "rows": [
        [
         "69",
         "40",
         "48",
         "0",
         "1",
         "0",
         "1"
        ],
        [
         "29",
         "33",
         "35",
         "0",
         "0",
         "0",
         "1"
        ],
        [
         "471",
         "43",
         "30",
         "1",
         "0",
         "0",
         "1"
        ],
        [
         "344",
         "59",
         "113",
         "1",
         "1",
         "0",
         "0"
        ],
        [
         "54",
         "19",
         "95",
         "1",
         "1",
         "0",
         "0"
        ],
        [
         "189",
         "50",
         "115",
         "1",
         "1",
         "0",
         "0"
        ],
        [
         "463",
         "46",
         "31",
         "1",
         "0",
         "1",
         "0"
        ],
        [
         "184",
         "19",
         "49",
         "0",
         "0",
         "0",
         "1"
        ],
        [
         "140",
         "53",
         "106",
         "0",
         "1",
         "1",
         "0"
        ],
        [
         "125",
         "32",
         "55",
         "0",
         "0",
         "1",
         "0"
        ],
        [
         "149",
         "45",
         "43",
         "1",
         "1",
         "1",
         "0"
        ],
        [
         "51",
         "53",
         "112",
         "1",
         "1",
         "1",
         "0"
        ],
        [
         "142",
         "49",
         "94",
         "1",
         "1",
         "1",
         "0"
        ],
        [
         "441",
         "22",
         "98",
         "0",
         "1",
         "1",
         "0"
        ],
        [
         "197",
         "21",
         "78",
         "1",
         "0",
         "1",
         "0"
        ],
        [
         "405",
         "56",
         "71",
         "1",
         "0",
         "1",
         "0"
        ],
        [
         "300",
         "50",
         "99",
         "1",
         "1",
         "0",
         "0"
        ],
        [
         "282",
         "24",
         "23",
         "0",
         "0",
         "0",
         "1"
        ],
        [
         "160",
         "30",
         "111",
         "0",
         "1",
         "1",
         "0"
        ],
        [
         "489",
         "26",
         "82",
         "1",
         "1",
         "1",
         "0"
        ],
        [
         "150",
         "45",
         "47",
         "1",
         "0",
         "1",
         "0"
        ],
        [
         "416",
         "31",
         "40",
         "1",
         "0",
         "1",
         "0"
        ],
        [
         "97",
         "58",
         "77",
         "0",
         "0",
         "1",
         "0"
        ],
        [
         "260",
         "55",
         "83",
         "0",
         "0",
         "1",
         "0"
        ],
        [
         "203",
         "51",
         "118",
         "1",
         "1",
         "0",
         "0"
        ],
        [
         "241",
         "19",
         "22",
         "1",
         "0",
         "0",
         "1"
        ],
        [
         "103",
         "51",
         "20",
         "0",
         "0",
         "0",
         "1"
        ],
        [
         "399",
         "51",
         "27",
         "1",
         "0",
         "0",
         "1"
        ],
        [
         "234",
         "48",
         "111",
         "1",
         "1",
         "1",
         "0"
        ],
        [
         "31",
         "20",
         "118",
         "0",
         "1",
         "1",
         "0"
        ],
        [
         "175",
         "41",
         "54",
         "1",
         "1",
         "1",
         "0"
        ],
        [
         "325",
         "59",
         "41",
         "1",
         "0",
         "0",
         "1"
        ],
        [
         "453",
         "52",
         "64",
         "0",
         "0",
         "1",
         "0"
        ],
        [
         "374",
         "25",
         "57",
         "0",
         "1",
         "0",
         "1"
        ],
        [
         "3",
         "25",
         "32",
         "0",
         "0",
         "0",
         "1"
        ],
        [
         "356",
         "31",
         "66",
         "0",
         "1",
         "1",
         "0"
        ],
        [
         "422",
         "33",
         "81",
         "1",
         "1",
         "1",
         "0"
        ],
        [
         "169",
         "50",
         "103",
         "1",
         "1",
         "0",
         "0"
        ],
        [
         "37",
         "35",
         "72",
         "1",
         "1",
         "1",
         "0"
        ],
        [
         "6",
         "36",
         "118",
         "0",
         "1",
         "1",
         "0"
        ],
        [
         "120",
         "43",
         "66",
         "1",
         "1",
         "1",
         "0"
        ],
        [
         "483",
         "53",
         "21",
         "1",
         "0",
         "0",
         "1"
        ],
        [
         "297",
         "47",
         "94",
         "1",
         "1",
         "1",
         "0"
        ],
        [
         "275",
         "50",
         "107",
         "1",
         "0",
         "1",
         "0"
        ],
        [
         "174",
         "49",
         "65",
         "0",
         "1",
         "1",
         "0"
        ],
        [
         "292",
         "25",
         "25",
         "1",
         "1",
         "0",
         "1"
        ],
        [
         "462",
         "27",
         "39",
         "0",
         "0",
         "0",
         "1"
        ],
        [
         "429",
         "47",
         "22",
         "0",
         "0",
         "0",
         "1"
        ],
        [
         "446",
         "19",
         "76",
         "0",
         "1",
         "1",
         "0"
        ],
        [
         "349",
         "30",
         "45",
         "1",
         "0",
         "0",
         "1"
        ]
       ],
       "shape": {
        "columns": 6,
        "rows": 150
       }
      },
      "text/html": [
       "<div>\n",
       "<style scoped>\n",
       "    .dataframe tbody tr th:only-of-type {\n",
       "        vertical-align: middle;\n",
       "    }\n",
       "\n",
       "    .dataframe tbody tr th {\n",
       "        vertical-align: top;\n",
       "    }\n",
       "\n",
       "    .dataframe thead th {\n",
       "        text-align: right;\n",
       "    }\n",
       "</style>\n",
       "<table border=\"1\" class=\"dataframe\">\n",
       "  <thead>\n",
       "    <tr style=\"text-align: right;\">\n",
       "      <th></th>\n",
       "      <th>Age</th>\n",
       "      <th>Income_k$</th>\n",
       "      <th>Education_Level</th>\n",
       "      <th>Purchased</th>\n",
       "      <th>Customer_Type_B</th>\n",
       "      <th>Customer_Type_C</th>\n",
       "    </tr>\n",
       "  </thead>\n",
       "  <tbody>\n",
       "    <tr>\n",
       "      <th>69</th>\n",
       "      <td>40</td>\n",
       "      <td>48</td>\n",
       "      <td>0</td>\n",
       "      <td>1</td>\n",
       "      <td>0</td>\n",
       "      <td>1</td>\n",
       "    </tr>\n",
       "    <tr>\n",
       "      <th>29</th>\n",
       "      <td>33</td>\n",
       "      <td>35</td>\n",
       "      <td>0</td>\n",
       "      <td>0</td>\n",
       "      <td>0</td>\n",
       "      <td>1</td>\n",
       "    </tr>\n",
       "    <tr>\n",
       "      <th>471</th>\n",
       "      <td>43</td>\n",
       "      <td>30</td>\n",
       "      <td>1</td>\n",
       "      <td>0</td>\n",
       "      <td>0</td>\n",
       "      <td>1</td>\n",
       "    </tr>\n",
       "    <tr>\n",
       "      <th>344</th>\n",
       "      <td>59</td>\n",
       "      <td>113</td>\n",
       "      <td>1</td>\n",
       "      <td>1</td>\n",
       "      <td>0</td>\n",
       "      <td>0</td>\n",
       "    </tr>\n",
       "    <tr>\n",
       "      <th>54</th>\n",
       "      <td>19</td>\n",
       "      <td>95</td>\n",
       "      <td>1</td>\n",
       "      <td>1</td>\n",
       "      <td>0</td>\n",
       "      <td>0</td>\n",
       "    </tr>\n",
       "    <tr>\n",
       "      <th>...</th>\n",
       "      <td>...</td>\n",
       "      <td>...</td>\n",
       "      <td>...</td>\n",
       "      <td>...</td>\n",
       "      <td>...</td>\n",
       "      <td>...</td>\n",
       "    </tr>\n",
       "    <tr>\n",
       "      <th>308</th>\n",
       "      <td>46</td>\n",
       "      <td>44</td>\n",
       "      <td>1</td>\n",
       "      <td>0</td>\n",
       "      <td>0</td>\n",
       "      <td>1</td>\n",
       "    </tr>\n",
       "    <tr>\n",
       "      <th>171</th>\n",
       "      <td>41</td>\n",
       "      <td>111</td>\n",
       "      <td>1</td>\n",
       "      <td>1</td>\n",
       "      <td>0</td>\n",
       "      <td>0</td>\n",
       "    </tr>\n",
       "    <tr>\n",
       "      <th>457</th>\n",
       "      <td>29</td>\n",
       "      <td>45</td>\n",
       "      <td>1</td>\n",
       "      <td>1</td>\n",
       "      <td>1</td>\n",
       "      <td>0</td>\n",
       "    </tr>\n",
       "    <tr>\n",
       "      <th>75</th>\n",
       "      <td>43</td>\n",
       "      <td>105</td>\n",
       "      <td>0</td>\n",
       "      <td>1</td>\n",
       "      <td>1</td>\n",
       "      <td>0</td>\n",
       "    </tr>\n",
       "    <tr>\n",
       "      <th>311</th>\n",
       "      <td>58</td>\n",
       "      <td>86</td>\n",
       "      <td>1</td>\n",
       "      <td>1</td>\n",
       "      <td>1</td>\n",
       "      <td>0</td>\n",
       "    </tr>\n",
       "  </tbody>\n",
       "</table>\n",
       "<p>150 rows × 6 columns</p>\n",
       "</div>"
      ],
      "text/plain": [
       "     Age  Income_k$  Education_Level  Purchased  Customer_Type_B  \\\n",
       "69    40         48                0          1                0   \n",
       "29    33         35                0          0                0   \n",
       "471   43         30                1          0                0   \n",
       "344   59        113                1          1                0   \n",
       "54    19         95                1          1                0   \n",
       "..   ...        ...              ...        ...              ...   \n",
       "308   46         44                1          0                0   \n",
       "171   41        111                1          1                0   \n",
       "457   29         45                1          1                1   \n",
       "75    43        105                0          1                1   \n",
       "311   58         86                1          1                1   \n",
       "\n",
       "     Customer_Type_C  \n",
       "69                 1  \n",
       "29                 1  \n",
       "471                1  \n",
       "344                0  \n",
       "54                 0  \n",
       "..               ...  \n",
       "308                1  \n",
       "171                0  \n",
       "457                0  \n",
       "75                 0  \n",
       "311                0  \n",
       "\n",
       "[150 rows x 6 columns]"
      ]
     },
     "execution_count": 2286,
     "metadata": {},
     "output_type": "execute_result"
    }
   ],
   "source": [
    "X_train"
   ]
  },
  {
   "cell_type": "markdown",
   "id": "0faa7c98",
   "metadata": {},
   "source": [
    "#### Perform Variance inflation factor to determine the multicollinearity "
   ]
  },
  {
   "cell_type": "code",
   "execution_count": null,
   "id": "9cbdcedb",
   "metadata": {},
   "outputs": [
    {
     "data": {
      "application/vnd.microsoft.datawrangler.viewer.v0+json": {
       "columns": [
        {
         "name": "index",
         "rawType": "int64",
         "type": "integer"
        },
        {
         "name": "Features",
         "rawType": "object",
         "type": "string"
        },
        {
         "name": "VIF",
         "rawType": "float64",
         "type": "float"
        }
       ],
       "ref": "1d052c92-fa3f-402c-bf72-5b74883c357d",
       "rows": [
        [
         "0",
         "Income_k$",
         "4.01"
        ],
        [
         "2",
         "Customer_Type_B",
         "3.02"
        ],
        [
         "1",
         "Education_Level",
         "2.32"
        ],
        [
         "3",
         "Customer_Type_C",
         "1.32"
        ]
       ],
       "shape": {
        "columns": 2,
        "rows": 4
       }
      },
      "text/html": [
       "<div>\n",
       "<style scoped>\n",
       "    .dataframe tbody tr th:only-of-type {\n",
       "        vertical-align: middle;\n",
       "    }\n",
       "\n",
       "    .dataframe tbody tr th {\n",
       "        vertical-align: top;\n",
       "    }\n",
       "\n",
       "    .dataframe thead th {\n",
       "        text-align: right;\n",
       "    }\n",
       "</style>\n",
       "<table border=\"1\" class=\"dataframe\">\n",
       "  <thead>\n",
       "    <tr style=\"text-align: right;\">\n",
       "      <th></th>\n",
       "      <th>Features</th>\n",
       "      <th>VIF</th>\n",
       "    </tr>\n",
       "  </thead>\n",
       "  <tbody>\n",
       "    <tr>\n",
       "      <th>0</th>\n",
       "      <td>Income_k$</td>\n",
       "      <td>4.01</td>\n",
       "    </tr>\n",
       "    <tr>\n",
       "      <th>2</th>\n",
       "      <td>Customer_Type_B</td>\n",
       "      <td>3.02</td>\n",
       "    </tr>\n",
       "    <tr>\n",
       "      <th>1</th>\n",
       "      <td>Education_Level</td>\n",
       "      <td>2.32</td>\n",
       "    </tr>\n",
       "    <tr>\n",
       "      <th>3</th>\n",
       "      <td>Customer_Type_C</td>\n",
       "      <td>1.32</td>\n",
       "    </tr>\n",
       "  </tbody>\n",
       "</table>\n",
       "</div>"
      ],
      "text/plain": [
       "          Features   VIF\n",
       "0        Income_k$  4.01\n",
       "2  Customer_Type_B  3.02\n",
       "1  Education_Level  2.32\n",
       "3  Customer_Type_C  1.32"
      ]
     },
     "execution_count": 2287,
     "metadata": {},
     "output_type": "execute_result"
    }
   ],
   "source": [
    "vif = pd.DataFrame()\n",
    "X = X_train.drop(columns=['Age','Purchased'])\n",
    "vif['Features'] = X.columns\n",
    "vif['VIF'] = [variance_inflation_factor(X.values, i) for i in range(X.shape[1])]\n",
    "vif['VIF'] = round(vif['VIF'], 2)\n",
    "vif = vif.sort_values(by = \"VIF\", ascending = False)\n",
    "vif"
   ]
  },
  {
   "cell_type": "code",
   "execution_count": null,
   "id": "cd609aef",
   "metadata": {},
   "outputs": [],
   "source": [
    "X_train_2 = sm.add_constant(X_train[vif[\"Features\"]])"
   ]
  },
  {
   "cell_type": "code",
   "execution_count": null,
   "id": "5f9257f1",
   "metadata": {},
   "outputs": [],
   "source": [
    "lr_2=sm.OLS(y_train,X_train_2).fit()"
   ]
  },
  {
   "cell_type": "code",
   "execution_count": null,
   "id": "2718107d",
   "metadata": {},
   "outputs": [
    {
     "data": {
      "application/vnd.microsoft.datawrangler.viewer.v0+json": {
       "columns": [
        {
         "name": "index",
         "rawType": "object",
         "type": "string"
        },
        {
         "name": "0",
         "rawType": "float64",
         "type": "float"
        }
       ],
       "ref": "0bdd348f-bc69-4eea-b7ad-b15e0ee82f49",
       "rows": [
        [
         "const",
         "46.440783380765666"
        ],
        [
         "Income_k$",
         "0.5079319486072585"
        ],
        [
         "Customer_Type_B",
         "-16.38775924647284"
        ],
        [
         "Education_Level",
         "6.114463304563949"
        ],
        [
         "Customer_Type_C",
         "-30.309777367667877"
        ]
       ],
       "shape": {
        "columns": 1,
        "rows": 5
       }
      },
      "text/plain": [
       "const              46.440783\n",
       "Income_k$           0.507932\n",
       "Customer_Type_B   -16.387759\n",
       "Education_Level     6.114463\n",
       "Customer_Type_C   -30.309777\n",
       "dtype: float64"
      ]
     },
     "execution_count": 2290,
     "metadata": {},
     "output_type": "execute_result"
    }
   ],
   "source": [
    "lr_2.params"
   ]
  },
  {
   "cell_type": "code",
   "execution_count": null,
   "id": "6bb4510a",
   "metadata": {},
   "outputs": [
    {
     "name": "stdout",
     "output_type": "stream",
     "text": [
      "                            OLS Regression Results                            \n",
      "==============================================================================\n",
      "Dep. Variable:         Spending_Score   R-squared:                       0.896\n",
      "Model:                            OLS   Adj. R-squared:                  0.894\n",
      "Method:                 Least Squares   F-statistic:                     313.6\n",
      "Date:                Sat, 23 Aug 2025   Prob (F-statistic):           2.75e-70\n",
      "Time:                        11:17:33   Log-Likelihood:                -529.90\n",
      "No. Observations:                 150   AIC:                             1070.\n",
      "Df Residuals:                     145   BIC:                             1085.\n",
      "Df Model:                           4                                         \n",
      "Covariance Type:            nonrobust                                         \n",
      "===================================================================================\n",
      "                      coef    std err          t      P>|t|      [0.025      0.975]\n",
      "-----------------------------------------------------------------------------------\n",
      "const              46.4408      4.980      9.325      0.000      36.598      56.284\n",
      "Income_k$           0.5079      0.036     14.052      0.000       0.436       0.579\n",
      "Customer_Type_B   -16.3878      2.650     -6.183      0.000     -21.626     -11.150\n",
      "Education_Level     6.1145      1.507      4.058      0.000       3.136       9.093\n",
      "Customer_Type_C   -30.3098      3.798     -7.980      0.000     -37.817     -22.802\n",
      "==============================================================================\n",
      "Omnibus:                        1.021   Durbin-Watson:                   2.089\n",
      "Prob(Omnibus):                  0.600   Jarque-Bera (JB):                0.722\n",
      "Skew:                          -0.157   Prob(JB):                        0.697\n",
      "Kurtosis:                       3.129   Cond. No.                         721.\n",
      "==============================================================================\n",
      "\n",
      "Notes:\n",
      "[1] Standard Errors assume that the covariance matrix of the errors is correctly specified.\n"
     ]
    }
   ],
   "source": [
    "print(lr_2.summary())"
   ]
  },
  {
   "cell_type": "markdown",
   "id": "a2ad3993",
   "metadata": {},
   "source": [
    "#### Prediction on Train Data"
   ]
  },
  {
   "cell_type": "code",
   "execution_count": null,
   "id": "4609702b",
   "metadata": {},
   "outputs": [],
   "source": [
    "y_train_2_pred=lr_2.predict(X_train_2)"
   ]
  },
  {
   "cell_type": "markdown",
   "id": "e23f3bbd",
   "metadata": {},
   "source": [
    "#### Error Distribution of Train Data"
   ]
  },
  {
   "cell_type": "code",
   "execution_count": null,
   "id": "bf52d968",
   "metadata": {},
   "outputs": [
    {
     "data": {
      "image/png": "[encoded data removed]",
      "text/plain": [
       "<Figure size 500x500 with 1 Axes>"
      ]
     },
     "metadata": {},
     "output_type": "display_data"
    }
   ],
   "source": [
    "res=y_train-y_train_2_pred\n",
    "sns.displot(res)\n",
    "plt.show()"
   ]
  },
  {
   "cell_type": "markdown",
   "id": "57f09070",
   "metadata": {},
   "source": [
    "#### Train Data Metric"
   ]
  },
  {
   "cell_type": "code",
   "execution_count": null,
   "id": "2c6e7067",
   "metadata": {},
   "outputs": [
    {
     "name": "stdout",
     "output_type": "stream",
     "text": [
      "mean value of train data: 66.05775168074264\n"
     ]
    }
   ],
   "source": [
    "# mena of y_train data\n",
    "train_2_mean=np.mean(y_train)\n",
    "print(f\"mean value of train data: {train_2_mean}\")"
   ]
  },
  {
   "cell_type": "code",
   "execution_count": null,
   "id": "328cc332",
   "metadata": {},
   "outputs": [
    {
     "name": "stdout",
     "output_type": "stream",
     "text": [
      "mean sqaured error of train data: 68.54031465760657\n"
     ]
    }
   ],
   "source": [
    "# mean squared error of train data\n",
    "train_2_mse=mean_squared_error(y_train,y_train_2_pred)\n",
    "print(f\"mean sqaured error of train data: {train_2_mse}\")"
   ]
  },
  {
   "cell_type": "code",
   "execution_count": null,
   "id": "1f6cba48",
   "metadata": {},
   "outputs": [
    {
     "name": "stdout",
     "output_type": "stream",
     "text": [
      "root mean squared of train data: 8.278907817919377\n"
     ]
    }
   ],
   "source": [
    "# root mean squarede error of train data\n",
    "train_2_rmse=np.sqrt(train_2_mse)\n",
    "print(f\"root mean squared of train data: {train_2_rmse}\")"
   ]
  },
  {
   "cell_type": "code",
   "execution_count": null,
   "id": "8063351f",
   "metadata": {},
   "outputs": [
    {
     "name": "stdout",
     "output_type": "stream",
     "text": [
      "on average, model lr_2 predictions are off by ~8.3 spending on train data\n"
     ]
    }
   ],
   "source": [
    "print(f\"on average, model lr_2 predictions are off by ~{train_2_rmse:.1f} spending on train data\")"
   ]
  },
  {
   "cell_type": "code",
   "execution_count": null,
   "id": "96911b0d",
   "metadata": {},
   "outputs": [
    {
     "name": "stdout",
     "output_type": "stream",
     "text": [
      "total sum of sqaure or total variation on train data: 99219.30403575004\n"
     ]
    }
   ],
   "source": [
    "# total sum of square or total variation of train data\n",
    "train_2_TSS=np.sum((y_train-train_2_mean)**2)\n",
    "print(f\"total sum of sqaure or total variation on train data: {train_2_TSS}\")"
   ]
  },
  {
   "cell_type": "code",
   "execution_count": null,
   "id": "cbf698ee",
   "metadata": {},
   "outputs": [
    {
     "name": "stdout",
     "output_type": "stream",
     "text": [
      "residula sum of square on train data: 10281.047198640987\n"
     ]
    }
   ],
   "source": [
    "# residual sum of square train data\n",
    "train_2_rss=np.sum((y_train-y_train_2_pred)**2)\n",
    "print(f\"residula sum of square on train data: {train_2_rss}\")"
   ]
  },
  {
   "cell_type": "code",
   "execution_count": null,
   "id": "783de406",
   "metadata": {},
   "outputs": [
    {
     "name": "stdout",
     "output_type": "stream",
     "text": [
      "r2 score of train data: 0.8963805753471463\n"
     ]
    }
   ],
   "source": [
    "# r2 score of train data\n",
    "train_2_r2=r2_score(y_train,y_train_2_pred)\n",
    "print(f\"r2 score of train data: {train_2_r2}\")"
   ]
  },
  {
   "cell_type": "code",
   "execution_count": null,
   "id": "21546c0f",
   "metadata": {},
   "outputs": [
    {
     "name": "stdout",
     "output_type": "stream",
     "text": [
      "model lr_2 was able to explain 89.6% variation on the train data\n"
     ]
    }
   ],
   "source": [
    "print(f\"model lr_2 was able to explain {train_2_r2*100:.1f}% variation on the train data\")"
   ]
  },
  {
   "cell_type": "markdown",
   "id": "4dd4af1f",
   "metadata": {},
   "source": [
    "#### Conclusion on Train Data using features [Income_k$,Customer_Type_B,Education_Level,Customer_Type_C]\n",
    "\n",
    "##### RMSE Interpretation\n",
    "\n",
    "- The **Root Mean Squared Error (RMSE)** on the training data is **8.2**.  \n",
    "\n",
    "**Meaning:**  \n",
    "- On average, model lr_2 predictions on training data differ from the actual values by about **8.2 points**.  \n",
    "- Example:  \n",
    "  - If the model lr_2 predicts a **Spending Score = 78** on training data,  \n",
    "  - The actual score is likely to fall within the range:  \n",
    "\n",
    "    **78 ± 8.2 → [86.2 , 69.8]**\n",
    "\n",
    "##### Key Insight \n",
    "- A **smaller RMSE** indicates a more accurate model.  \n",
    "\n",
    "##### R² Interpretation  \n",
    "\n",
    "- **TSS (Total Sum of Squares / total variation):** `99219.30403575004`  \n",
    "- **RSS (Residual Sum of Squares / unexplained variation):** `10281.047198640987`  \n",
    "- **Explained variation (TSS - RSS):** `88938.25683710906`  \n",
    "\n",
    "$$\n",
    "R^2 = 1 - \\frac{RSS}{TSS} = 1 - \\frac{10281.047198640987}{99219.30403575004} \\approx 0.89\n",
    "$$\n",
    "\n",
    "\n",
    "✅ The model lr_2 explains about **89% of the total variation** in the on training data.  \n",
    "❌ About **11% of the variation** is not explained by the model. "
   ]
  },
  {
   "cell_type": "markdown",
   "id": "5319660c",
   "metadata": {},
   "source": [
    "#### Prediction on Test Data"
   ]
  },
  {
   "cell_type": "code",
   "execution_count": null,
   "id": "f5be0e2f",
   "metadata": {},
   "outputs": [],
   "source": [
    "X_test_2 = sm.add_constant(X_test[vif[\"Features\"]])"
   ]
  },
  {
   "cell_type": "code",
   "execution_count": null,
   "id": "54378429",
   "metadata": {},
   "outputs": [],
   "source": [
    "y_test_2_pred=lr_2.predict(X_test_2)"
   ]
  },
  {
   "cell_type": "code",
   "execution_count": null,
   "id": "fdd34cb2",
   "metadata": {},
   "outputs": [
    {
     "name": "stdout",
     "output_type": "stream",
     "text": [
      "mean value of test data: 65.2052497156348\n"
     ]
    }
   ],
   "source": [
    "# mean of y_test data\n",
    "test_2_mean=np.mean(y_test)\n",
    "print(f\"mean value of test data: {test_2_mean}\")"
   ]
  },
  {
   "cell_type": "code",
   "execution_count": null,
   "id": "3091d11c",
   "metadata": {},
   "outputs": [
    {
     "name": "stdout",
     "output_type": "stream",
     "text": [
      "mean sqaured error of test data: 66.18728965858419\n"
     ]
    }
   ],
   "source": [
    "# mean squared error on test data\n",
    "test_2_mse=mean_squared_error(y_test,y_test_2_pred)\n",
    "print(f\"mean sqaured error of test data: {test_2_mse}\")"
   ]
  },
  {
   "cell_type": "code",
   "execution_count": null,
   "id": "6382057a",
   "metadata": {},
   "outputs": [
    {
     "name": "stdout",
     "output_type": "stream",
     "text": [
      "root mean squared error of test data: 8.135557120356552\n"
     ]
    }
   ],
   "source": [
    "# root mean squared error on test data\n",
    "test_2_rmse=np.sqrt(test_2_mse)\n",
    "print(f\"root mean squared error of test data: {test_2_rmse}\")"
   ]
  },
  {
   "cell_type": "code",
   "execution_count": null,
   "id": "d675e776",
   "metadata": {},
   "outputs": [
    {
     "name": "stdout",
     "output_type": "stream",
     "text": [
      "on average, model lr_2 predictions are off by ~8.1 spending on train data\n"
     ]
    }
   ],
   "source": [
    "print(f\"on average, model lr_2 predictions are off by ~{test_2_rmse:.1f} spending on train data\")"
   ]
  },
  {
   "cell_type": "code",
   "execution_count": null,
   "id": "83d290e5",
   "metadata": {},
   "outputs": [
    {
     "name": "stdout",
     "output_type": "stream",
     "text": [
      "total sum of sqaure or total variation on test data: 198589.76506759826\n"
     ]
    }
   ],
   "source": [
    "# total sum of square or total variation of train data\n",
    "test_2_TSS=np.sum((y_test-test_2_mean)**2)\n",
    "print(f\"total sum of sqaure or total variation on test data: {test_2_TSS}\")"
   ]
  },
  {
   "cell_type": "code",
   "execution_count": null,
   "id": "228e595a",
   "metadata": {},
   "outputs": [
    {
     "name": "stdout",
     "output_type": "stream",
     "text": [
      "residula sum of square on test data: 23165.551380504465\n"
     ]
    }
   ],
   "source": [
    "# residual sum of square test data\n",
    "test_2_rss=np.sum((y_test-y_test_2_pred)**2)\n",
    "print(f\"residula sum of square on test data: {test_2_rss}\")"
   ]
  },
  {
   "cell_type": "code",
   "execution_count": null,
   "id": "46671216",
   "metadata": {},
   "outputs": [
    {
     "name": "stdout",
     "output_type": "stream",
     "text": [
      "r2 score of test data: 0.8833497216101791\n"
     ]
    }
   ],
   "source": [
    "# r2 score of test data\n",
    "test_2_r2=r2_score(y_test,y_test_2_pred)\n",
    "print(f\"r2 score of test data: {test_2_r2}\")"
   ]
  },
  {
   "cell_type": "code",
   "execution_count": null,
   "id": "df5bd92a",
   "metadata": {},
   "outputs": [
    {
     "name": "stdout",
     "output_type": "stream",
     "text": [
      "model lr_2 was able to explain 88.3% variation on the test data\n"
     ]
    }
   ],
   "source": [
    "print(f\"model lr_2 was able to explain {test_2_r2*100:.1f}% variation on the test data\")"
   ]
  },
  {
   "cell_type": "markdown",
   "id": "d1734be9",
   "metadata": {},
   "source": [
    "#### Conclusion on Test Data using features [Income_k$,Customer_Type_B,Education_Level,Customer_Type_C]\n",
    "\n",
    "##### RMSE Interpretation\n",
    "\n",
    "- The **Root Mean Squared Error (RMSE)** on the test data is **8.1**.  \n",
    "\n",
    "**Meaning:**  \n",
    "- On average, model lr_2 predictions on test data differ from the actual values by about **8.1 points**.  \n",
    "- Example:  \n",
    "  - If the model lr_2 predicts a **Spending Score = 78** on test data,  \n",
    "  - The actual score is likely to fall within the range:  \n",
    "\n",
    "    **78 ± 8.1 → [86.1 , 69.7]**\n",
    "\n",
    "##### Key Insight \n",
    "- A **smaller RMSE** indicates a more accurate model.  \n",
    "\n",
    "##### R² Interpretation  \n",
    "\n",
    "- **TSS (Total Sum of Squares / total variation):** `198589.76506759826`  \n",
    "- **RSS (Residual Sum of Squares / unexplained variation):** `23165.551380504465`  \n",
    "- **Explained variation (TSS - RSS):** `175424.21368709378`  \n",
    "\n",
    "$$\n",
    "R^2 = 1 - \\frac{RSS}{TSS} = 1 - \\frac{23165.551380504465}{198589.76506759826} \\approx 0.88\n",
    "$$\n",
    "\n",
    "\n",
    "✅ The model lr_2 explains about **82% of the total variation** in the on test data.  \n",
    "❌ About **12% of the variation** is not explained by the model. "
   ]
  },
  {
   "cell_type": "markdown",
   "id": "8457a6f3",
   "metadata": {},
   "source": [
    "## Build Model lr_3"
   ]
  },
  {
   "cell_type": "code",
   "execution_count": null,
   "id": "9019e4d2",
   "metadata": {},
   "outputs": [],
   "source": [
    "X_test_3=sm.add_constant(X_test)"
   ]
  },
  {
   "cell_type": "code",
   "execution_count": null,
   "id": "496f0ead",
   "metadata": {},
   "outputs": [],
   "source": [
    "lr_3=sm.OLS(y_test,X_test_3).fit()"
   ]
  },
  {
   "cell_type": "code",
   "execution_count": null,
   "id": "04cf0100",
   "metadata": {},
   "outputs": [
    {
     "data": {
      "application/vnd.microsoft.datawrangler.viewer.v0+json": {
       "columns": [
        {
         "name": "index",
         "rawType": "object",
         "type": "string"
        },
        {
         "name": "0",
         "rawType": "float64",
         "type": "float"
        }
       ],
       "ref": "e6016116-a47e-475f-8f31-934b59fff847",
       "rows": [
        [
         "const",
         "41.133311221997964"
        ],
        [
         "Age",
         "0.13296430107910004"
        ],
        [
         "Income_k$",
         "0.5058888891829129"
        ],
        [
         "Education_Level",
         "6.56048012628468"
        ],
        [
         "Purchased",
         "0.22362338405329835"
        ],
        [
         "Customer_Type_B",
         "-16.43747577650542"
        ],
        [
         "Customer_Type_C",
         "-31.0936777297408"
        ]
       ],
       "shape": {
        "columns": 1,
        "rows": 7
       }
      },
      "text/plain": [
       "const              41.133311\n",
       "Age                 0.132964\n",
       "Income_k$           0.505889\n",
       "Education_Level     6.560480\n",
       "Purchased           0.223623\n",
       "Customer_Type_B   -16.437476\n",
       "Customer_Type_C   -31.093678\n",
       "dtype: float64"
      ]
     },
     "execution_count": 2314,
     "metadata": {},
     "output_type": "execute_result"
    }
   ],
   "source": [
    "lr_3.params"
   ]
  },
  {
   "cell_type": "code",
   "execution_count": null,
   "id": "f729b9cf",
   "metadata": {},
   "outputs": [
    {
     "name": "stdout",
     "output_type": "stream",
     "text": [
      "                            OLS Regression Results                            \n",
      "==============================================================================\n",
      "Dep. Variable:         Spending_Score   R-squared:                       0.888\n",
      "Model:                            OLS   Adj. R-squared:                  0.887\n",
      "Method:                 Least Squares   F-statistic:                     455.5\n",
      "Date:                Sat, 23 Aug 2025   Prob (F-statistic):          4.85e-160\n",
      "Time:                        11:17:33   Log-Likelihood:                -1222.4\n",
      "No. Observations:                 350   AIC:                             2459.\n",
      "Df Residuals:                     343   BIC:                             2486.\n",
      "Df Model:                           6                                         \n",
      "Covariance Type:            nonrobust                                         \n",
      "===================================================================================\n",
      "                      coef    std err          t      P>|t|      [0.025      0.975]\n",
      "-----------------------------------------------------------------------------------\n",
      "const              41.1333      3.853     10.675      0.000      33.554      48.712\n",
      "Age                 0.1330      0.036      3.646      0.000       0.061       0.205\n",
      "Income_k$           0.5059      0.026     19.214      0.000       0.454       0.558\n",
      "Education_Level     6.5605      0.924      7.098      0.000       4.743       8.378\n",
      "Purchased           0.2236      1.095      0.204      0.838      -1.929       2.377\n",
      "Customer_Type_B   -16.4375      1.814     -9.060      0.000     -20.006     -12.869\n",
      "Customer_Type_C   -31.0937      2.501    -12.431      0.000     -36.014     -26.174\n",
      "==============================================================================\n",
      "Omnibus:                        0.853   Durbin-Watson:                   2.059\n",
      "Prob(Omnibus):                  0.653   Jarque-Bera (JB):                0.731\n",
      "Skew:                          -0.110   Prob(JB):                        0.694\n",
      "Kurtosis:                       3.043   Cond. No.                         907.\n",
      "==============================================================================\n",
      "\n",
      "Notes:\n",
      "[1] Standard Errors assume that the covariance matrix of the errors is correctly specified.\n"
     ]
    }
   ],
   "source": [
    "print(lr_3.summary())"
   ]
  },
  {
   "cell_type": "markdown",
   "id": "9dadc13a",
   "metadata": {},
   "source": [
    "#### Prediction on Train data"
   ]
  },
  {
   "cell_type": "code",
   "execution_count": null,
   "id": "1e615a81",
   "metadata": {},
   "outputs": [],
   "source": [
    "y_test_3_pred=lr_3.predict(X_test_3)"
   ]
  },
  {
   "cell_type": "markdown",
   "id": "3e17a4ba",
   "metadata": {},
   "source": [
    "#### Error distribution of test data using model lr_3"
   ]
  },
  {
   "cell_type": "code",
   "execution_count": null,
   "id": "1cae9f5b",
   "metadata": {},
   "outputs": [
    {
     "data": {
      "image/png": "[encoded data removed]",
      "text/plain": [
       "<Figure size 500x500 with 1 Axes>"
      ]
     },
     "metadata": {},
     "output_type": "display_data"
    }
   ],
   "source": [
    "res=y_test-y_test_3_pred\n",
    "sns.displot(res)\n",
    "plt.show()"
   ]
  },
  {
   "cell_type": "markdown",
   "id": "df8fe481",
   "metadata": {},
   "source": [
    "#### Test "
   ]
  }
 ],
 "metadata": {
  "kernelspec": {
   "display_name": "gensimfix",
   "language": "python",
   "name": "python3"
  },
  "language_info": {
   "codemirror_mode": {
    "name": "ipython",
    "version": 3
   },
   "file_extension": ".py",
   "mimetype": "text/x-python",
   "name": "python",
   "nbconvert_exporter": "python",
   "pygments_lexer": "ipython3",
   "version": "3.10.13"
  }
 },
 "nbformat": 4,
 "nbformat_minor": 5
}
