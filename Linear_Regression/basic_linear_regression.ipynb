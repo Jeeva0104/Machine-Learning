{
 "cells": [
  {
   "cell_type": "code",
   "execution_count": 422,
   "id": "9e073644",
   "metadata": {},
   "outputs": [
    {
     "name": "stdout",
     "output_type": "stream",
     "text": [
      "Requirement already satisfied: statsmodels in /Users/jeeva.ramachandran/.pyenv/versions/3.10.13/envs/gensimfix/lib/python3.10/site-packages (0.14.5)\n",
      "Requirement already satisfied: scipy!=1.9.2,>=1.8 in /Users/jeeva.ramachandran/.pyenv/versions/3.10.13/envs/gensimfix/lib/python3.10/site-packages (from statsmodels) (1.12.0)\n",
      "Requirement already satisfied: patsy>=0.5.6 in /Users/jeeva.ramachandran/.pyenv/versions/3.10.13/envs/gensimfix/lib/python3.10/site-packages (from statsmodels) (1.0.1)\n",
      "Requirement already satisfied: pandas!=2.1.0,>=1.4 in /Users/jeeva.ramachandran/.pyenv/versions/3.10.13/envs/gensimfix/lib/python3.10/site-packages (from statsmodels) (2.2.2)\n",
      "Requirement already satisfied: numpy<3,>=1.22.3 in /Users/jeeva.ramachandran/.pyenv/versions/3.10.13/envs/gensimfix/lib/python3.10/site-packages (from statsmodels) (1.26.4)\n",
      "Requirement already satisfied: packaging>=21.3 in /Users/jeeva.ramachandran/.pyenv/versions/3.10.13/envs/gensimfix/lib/python3.10/site-packages (from statsmodels) (25.0)\n",
      "Requirement already satisfied: python-dateutil>=2.8.2 in /Users/jeeva.ramachandran/.pyenv/versions/3.10.13/envs/gensimfix/lib/python3.10/site-packages (from pandas!=2.1.0,>=1.4->statsmodels) (2.9.0.post0)\n",
      "Requirement already satisfied: tzdata>=2022.7 in /Users/jeeva.ramachandran/.pyenv/versions/3.10.13/envs/gensimfix/lib/python3.10/site-packages (from pandas!=2.1.0,>=1.4->statsmodels) (2025.2)\n",
      "Requirement already satisfied: pytz>=2020.1 in /Users/jeeva.ramachandran/.pyenv/versions/3.10.13/envs/gensimfix/lib/python3.10/site-packages (from pandas!=2.1.0,>=1.4->statsmodels) (2025.2)\n",
      "Requirement already satisfied: six>=1.5 in /Users/jeeva.ramachandran/.pyenv/versions/3.10.13/envs/gensimfix/lib/python3.10/site-packages (from python-dateutil>=2.8.2->pandas!=2.1.0,>=1.4->statsmodels) (1.17.0)\n",
      "\n",
      "\u001b[1m[\u001b[0m\u001b[34;49mnotice\u001b[0m\u001b[1;39;49m]\u001b[0m\u001b[39;49m A new release of pip is available: \u001b[0m\u001b[31;49m23.0.1\u001b[0m\u001b[39;49m -> \u001b[0m\u001b[32;49m25.2\u001b[0m\n",
      "\u001b[1m[\u001b[0m\u001b[34;49mnotice\u001b[0m\u001b[1;39;49m]\u001b[0m\u001b[39;49m To update, run: \u001b[0m\u001b[32;49mpip install --upgrade pip\u001b[0m\n",
      "Requirement already satisfied: scikit-learn in /Users/jeeva.ramachandran/.pyenv/versions/3.10.13/envs/gensimfix/lib/python3.10/site-packages (1.7.0)\n",
      "Requirement already satisfied: threadpoolctl>=3.1.0 in /Users/jeeva.ramachandran/.pyenv/versions/3.10.13/envs/gensimfix/lib/python3.10/site-packages (from scikit-learn) (3.6.0)\n",
      "Requirement already satisfied: joblib>=1.2.0 in /Users/jeeva.ramachandran/.pyenv/versions/3.10.13/envs/gensimfix/lib/python3.10/site-packages (from scikit-learn) (1.5.1)\n",
      "Requirement already satisfied: numpy>=1.22.0 in /Users/jeeva.ramachandran/.pyenv/versions/3.10.13/envs/gensimfix/lib/python3.10/site-packages (from scikit-learn) (1.26.4)\n",
      "Requirement already satisfied: scipy>=1.8.0 in /Users/jeeva.ramachandran/.pyenv/versions/3.10.13/envs/gensimfix/lib/python3.10/site-packages (from scikit-learn) (1.12.0)\n",
      "\n",
      "\u001b[1m[\u001b[0m\u001b[34;49mnotice\u001b[0m\u001b[1;39;49m]\u001b[0m\u001b[39;49m A new release of pip is available: \u001b[0m\u001b[31;49m23.0.1\u001b[0m\u001b[39;49m -> \u001b[0m\u001b[32;49m25.2\u001b[0m\n",
      "\u001b[1m[\u001b[0m\u001b[34;49mnotice\u001b[0m\u001b[1;39;49m]\u001b[0m\u001b[39;49m To update, run: \u001b[0m\u001b[32;49mpip install --upgrade pip\u001b[0m\n"
     ]
    }
   ],
   "source": [
    "!pip install statsmodels\n",
    "!pip install scikit-learn\n"
   ]
  },
  {
   "cell_type": "code",
   "execution_count": 423,
   "id": "cd56b174",
   "metadata": {},
   "outputs": [],
   "source": [
    "import numpy as np\n",
    "import pandas as pd\n",
    "import seaborn as sns\n",
    "import matplotlib.pyplot as plt\n",
    "import statsmodels.api as sm\n",
    "from statsmodels.stats.outliers_influence import variance_inflation_factor\n",
    "\n",
    "import sklearn\n",
    "from sklearn.model_selection import train_test_split \n",
    "\n",
    "from sklearn.preprocessing import MinMaxScaler\n",
    "\n",
    "from sklearn.metrics import mean_squared_error\n",
    "from sklearn.metrics import r2_score\n"
   ]
  },
  {
   "cell_type": "code",
   "execution_count": 424,
   "id": "8e82b53f",
   "metadata": {},
   "outputs": [],
   "source": [
    "# read the file\n",
    "df=pd.read_csv('../Data/basic_dataset.csv')"
   ]
  },
  {
   "cell_type": "code",
   "execution_count": 425,
   "id": "dcbce369",
   "metadata": {},
   "outputs": [
    {
     "name": "stdout",
     "output_type": "stream",
     "text": [
      "<class 'pandas.core.frame.DataFrame'>\n",
      "RangeIndex: 258 entries, 0 to 257\n",
      "Data columns (total 6 columns):\n",
      " #   Column           Non-Null Count  Dtype  \n",
      "---  ------           --------------  -----  \n",
      " 0   Age              258 non-null    int64  \n",
      " 1   Income_k$        258 non-null    int64  \n",
      " 2   Education_Level  258 non-null    int64  \n",
      " 3   Spending_Score   258 non-null    float64\n",
      " 4   Purchased        258 non-null    int64  \n",
      " 5   Customer_Type    258 non-null    object \n",
      "dtypes: float64(1), int64(4), object(1)\n",
      "memory usage: 12.2+ KB\n"
     ]
    }
   ],
   "source": [
    "df.info()"
   ]
  },
  {
   "cell_type": "code",
   "execution_count": 426,
   "id": "031319ae",
   "metadata": {},
   "outputs": [
    {
     "data": {
      "application/vnd.microsoft.datawrangler.viewer.v0+json": {
       "columns": [
        {
         "name": "index",
         "rawType": "int64",
         "type": "integer"
        },
        {
         "name": "Age",
         "rawType": "int64",
         "type": "integer"
        },
        {
         "name": "Income_k$",
         "rawType": "int64",
         "type": "integer"
        },
        {
         "name": "Education_Level",
         "rawType": "int64",
         "type": "integer"
        },
        {
         "name": "Spending_Score",
         "rawType": "float64",
         "type": "float"
        },
        {
         "name": "Purchased",
         "rawType": "int64",
         "type": "integer"
        },
        {
         "name": "Customer_Type",
         "rawType": "object",
         "type": "string"
        }
       ],
       "ref": "a568e73a-3d03-4821-add5-8ffc9655e1a2",
       "rows": [
        [
         "0",
         "56",
         "56",
         "1",
         "77.21853189426848",
         "0",
         "B"
        ],
        [
         "1",
         "46",
         "31",
         "1",
         "58.605438246922134",
         "1",
         "B"
        ],
        [
         "2",
         "32",
         "74",
         "1",
         "69.17587221544434",
         "1",
         "B"
        ],
        [
         "3",
         "25",
         "32",
         "0",
         "18.430413712665604",
         "0",
         "A"
        ],
        [
         "4",
         "38",
         "42",
         "1",
         "49.65409699692031",
         "1",
         "A"
        ]
       ],
       "shape": {
        "columns": 6,
        "rows": 5
       }
      },
      "text/html": [
       "<div>\n",
       "<style scoped>\n",
       "    .dataframe tbody tr th:only-of-type {\n",
       "        vertical-align: middle;\n",
       "    }\n",
       "\n",
       "    .dataframe tbody tr th {\n",
       "        vertical-align: top;\n",
       "    }\n",
       "\n",
       "    .dataframe thead th {\n",
       "        text-align: right;\n",
       "    }\n",
       "</style>\n",
       "<table border=\"1\" class=\"dataframe\">\n",
       "  <thead>\n",
       "    <tr style=\"text-align: right;\">\n",
       "      <th></th>\n",
       "      <th>Age</th>\n",
       "      <th>Income_k$</th>\n",
       "      <th>Education_Level</th>\n",
       "      <th>Spending_Score</th>\n",
       "      <th>Purchased</th>\n",
       "      <th>Customer_Type</th>\n",
       "    </tr>\n",
       "  </thead>\n",
       "  <tbody>\n",
       "    <tr>\n",
       "      <th>0</th>\n",
       "      <td>56</td>\n",
       "      <td>56</td>\n",
       "      <td>1</td>\n",
       "      <td>77.218532</td>\n",
       "      <td>0</td>\n",
       "      <td>B</td>\n",
       "    </tr>\n",
       "    <tr>\n",
       "      <th>1</th>\n",
       "      <td>46</td>\n",
       "      <td>31</td>\n",
       "      <td>1</td>\n",
       "      <td>58.605438</td>\n",
       "      <td>1</td>\n",
       "      <td>B</td>\n",
       "    </tr>\n",
       "    <tr>\n",
       "      <th>2</th>\n",
       "      <td>32</td>\n",
       "      <td>74</td>\n",
       "      <td>1</td>\n",
       "      <td>69.175872</td>\n",
       "      <td>1</td>\n",
       "      <td>B</td>\n",
       "    </tr>\n",
       "    <tr>\n",
       "      <th>3</th>\n",
       "      <td>25</td>\n",
       "      <td>32</td>\n",
       "      <td>0</td>\n",
       "      <td>18.430414</td>\n",
       "      <td>0</td>\n",
       "      <td>A</td>\n",
       "    </tr>\n",
       "    <tr>\n",
       "      <th>4</th>\n",
       "      <td>38</td>\n",
       "      <td>42</td>\n",
       "      <td>1</td>\n",
       "      <td>49.654097</td>\n",
       "      <td>1</td>\n",
       "      <td>A</td>\n",
       "    </tr>\n",
       "  </tbody>\n",
       "</table>\n",
       "</div>"
      ],
      "text/plain": [
       "   Age  Income_k$  Education_Level  Spending_Score  Purchased Customer_Type\n",
       "0   56         56                1       77.218532          0             B\n",
       "1   46         31                1       58.605438          1             B\n",
       "2   32         74                1       69.175872          1             B\n",
       "3   25         32                0       18.430414          0             A\n",
       "4   38         42                1       49.654097          1             A"
      ]
     },
     "execution_count": 426,
     "metadata": {},
     "output_type": "execute_result"
    }
   ],
   "source": [
    "df.head()"
   ]
  },
  {
   "cell_type": "code",
   "execution_count": 427,
   "id": "f5241fbe",
   "metadata": {},
   "outputs": [
    {
     "data": {
      "application/vnd.microsoft.datawrangler.viewer.v0+json": {
       "columns": [
        {
         "name": "index",
         "rawType": "object",
         "type": "string"
        },
        {
         "name": "0",
         "rawType": "int64",
         "type": "integer"
        }
       ],
       "ref": "0b6b4ac0-0d0d-4cb0-9610-6ed092c4bc08",
       "rows": [
        [
         "Age",
         "0"
        ],
        [
         "Income_k$",
         "0"
        ],
        [
         "Education_Level",
         "0"
        ],
        [
         "Spending_Score",
         "0"
        ],
        [
         "Purchased",
         "0"
        ],
        [
         "Customer_Type",
         "0"
        ]
       ],
       "shape": {
        "columns": 1,
        "rows": 6
       }
      },
      "text/plain": [
       "Age                0\n",
       "Income_k$          0\n",
       "Education_Level    0\n",
       "Spending_Score     0\n",
       "Purchased          0\n",
       "Customer_Type      0\n",
       "dtype: int64"
      ]
     },
     "execution_count": 427,
     "metadata": {},
     "output_type": "execute_result"
    }
   ],
   "source": [
    "# check the null values\n",
    "df.isnull().sum()"
   ]
  },
  {
   "cell_type": "markdown",
   "id": "616cd06d",
   "metadata": {},
   "source": [
    "# EDA"
   ]
  },
  {
   "cell_type": "code",
   "execution_count": 428,
   "id": "4594282f",
   "metadata": {},
   "outputs": [
    {
     "data": {
      "image/png": "[encoded data removed]",
      "text/plain": [
       "<Figure size 640x480 with 1 Axes>"
      ]
     },
     "metadata": {},
     "output_type": "display_data"
    }
   ],
   "source": [
    "plt.hist(df['Spending_Score'],bins=30,edgecolor='k')\n",
    "plt.show()"
   ]
  },
  {
   "cell_type": "code",
   "execution_count": 429,
   "id": "0ffd336b",
   "metadata": {},
   "outputs": [
    {
     "data": {
      "text/plain": [
       "<Axes: xlabel='Age', ylabel='Spending_Score'>"
      ]
     },
     "execution_count": 429,
     "metadata": {},
     "output_type": "execute_result"
    },
    {
     "data": {
      "image/png": "[encoded data removed]",
      "text/plain": [
       "<Figure size 640x480 with 1 Axes>"
      ]
     },
     "metadata": {},
     "output_type": "display_data"
    }
   ],
   "source": [
    "# age vs spending Score\n",
    "sns.scatterplot(x=\"Age\", y=\"Spending_Score\", data=df)"
   ]
  },
  {
   "cell_type": "code",
   "execution_count": 430,
   "id": "03556509",
   "metadata": {},
   "outputs": [
    {
     "data": {
      "text/plain": [
       "<Axes: xlabel='Income_k$', ylabel='Spending_Score'>"
      ]
     },
     "execution_count": 430,
     "metadata": {},
     "output_type": "execute_result"
    },
    {
     "data": {
      "image/png": "[encoded data removed]",
      "text/plain": [
       "<Figure size 640x480 with 1 Axes>"
      ]
     },
     "metadata": {},
     "output_type": "display_data"
    }
   ],
   "source": [
    "sns.scatterplot(x=\"Income_k$\", y=\"Spending_Score\", data=df)\n"
   ]
  },
  {
   "cell_type": "code",
   "execution_count": 431,
   "id": "b455224f",
   "metadata": {},
   "outputs": [
    {
     "data": {
      "text/plain": [
       "<Axes: xlabel='Purchased', ylabel='Spending_Score'>"
      ]
     },
     "execution_count": 431,
     "metadata": {},
     "output_type": "execute_result"
    },
    {
     "data": {
      "image/png": "[encoded data removed]",
      "text/plain": [
       "<Figure size 640x480 with 1 Axes>"
      ]
     },
     "metadata": {},
     "output_type": "display_data"
    }
   ],
   "source": [
    "sns.scatterplot(x=\"Purchased\",y=\"Spending_Score\",data=df)"
   ]
  },
  {
   "cell_type": "code",
   "execution_count": 432,
   "id": "9fd43827",
   "metadata": {},
   "outputs": [
    {
     "data": {
      "text/plain": [
       "<Axes: xlabel='Education_Level', ylabel='Spending_Score'>"
      ]
     },
     "execution_count": 432,
     "metadata": {},
     "output_type": "execute_result"
    },
    {
     "data": {
      "image/png": "[encoded data removed]",
      "text/plain": [
       "<Figure size 640x480 with 1 Axes>"
      ]
     },
     "metadata": {},
     "output_type": "display_data"
    }
   ],
   "source": [
    "sns.scatterplot(x='Education_Level',y=\"Spending_Score\",data=df)"
   ]
  },
  {
   "cell_type": "code",
   "execution_count": 433,
   "id": "fcda9bfd",
   "metadata": {},
   "outputs": [
    {
     "data": {
      "image/png": "[encoded data removed]",
      "text/plain": [
       "<Figure size 640x480 with 1 Axes>"
      ]
     },
     "metadata": {},
     "output_type": "display_data"
    }
   ],
   "source": [
    "sns.boxplot(x='Customer_Type',y='Spending_Score',data=df)\n",
    "plt.title(\"Spending Score vs Customer Type\")\n",
    "plt.show()"
   ]
  },
  {
   "cell_type": "code",
   "execution_count": 434,
   "id": "36301122",
   "metadata": {},
   "outputs": [
    {
     "data": {
      "image/png": "[encoded data removed]",
      "text/plain": [
       "<Figure size 640x480 with 1 Axes>"
      ]
     },
     "metadata": {},
     "output_type": "display_data"
    }
   ],
   "source": [
    "sns.barplot(x=\"Customer_Type\", y=\"Spending_Score\", data=df, estimator=\"mean\")\n",
    "plt.title(\"Average Spending Score by Customer Type\")\n",
    "plt.show()"
   ]
  },
  {
   "cell_type": "code",
   "execution_count": 435,
   "id": "cb746966",
   "metadata": {},
   "outputs": [
    {
     "data": {
      "text/plain": [
       "<Axes: >"
      ]
     },
     "execution_count": 435,
     "metadata": {},
     "output_type": "execute_result"
    },
    {
     "data": {
      "image/png": "[encoded data removed]",
      "text/plain": [
       "<Figure size 640x480 with 2 Axes>"
      ]
     },
     "metadata": {},
     "output_type": "display_data"
    }
   ],
   "source": [
    "corr=df.corr(numeric_only=True)\n",
    "sns.heatmap(corr,annot=True,cmap=\"coolwarm\")"
   ]
  },
  {
   "cell_type": "code",
   "execution_count": 436,
   "id": "6091f9b8",
   "metadata": {},
   "outputs": [],
   "source": [
    "# create dummy for customer type\n",
    "df_encoded = pd.get_dummies(df, columns=[\"Customer_Type\"],dtype=int, drop_first=True)\n"
   ]
  },
  {
   "cell_type": "code",
   "execution_count": 437,
   "id": "db7c9316",
   "metadata": {},
   "outputs": [
    {
     "data": {
      "application/vnd.microsoft.datawrangler.viewer.v0+json": {
       "columns": [
        {
         "name": "index",
         "rawType": "int64",
         "type": "integer"
        },
        {
         "name": "Age",
         "rawType": "int64",
         "type": "integer"
        },
        {
         "name": "Income_k$",
         "rawType": "int64",
         "type": "integer"
        },
        {
         "name": "Education_Level",
         "rawType": "int64",
         "type": "integer"
        },
        {
         "name": "Spending_Score",
         "rawType": "float64",
         "type": "float"
        },
        {
         "name": "Purchased",
         "rawType": "int64",
         "type": "integer"
        },
        {
         "name": "Customer_Type_B",
         "rawType": "int64",
         "type": "integer"
        }
       ],
       "ref": "43031c96-1999-4c68-b0b5-46747d38e9bb",
       "rows": [
        [
         "0",
         "56",
         "56",
         "1",
         "77.21853189426848",
         "0",
         "1"
        ],
        [
         "1",
         "46",
         "31",
         "1",
         "58.605438246922134",
         "1",
         "1"
        ],
        [
         "2",
         "32",
         "74",
         "1",
         "69.17587221544434",
         "1",
         "1"
        ],
        [
         "3",
         "25",
         "32",
         "0",
         "18.430413712665604",
         "0",
         "0"
        ],
        [
         "4",
         "38",
         "42",
         "1",
         "49.65409699692031",
         "1",
         "0"
        ]
       ],
       "shape": {
        "columns": 6,
        "rows": 5
       }
      },
      "text/html": [
       "<div>\n",
       "<style scoped>\n",
       "    .dataframe tbody tr th:only-of-type {\n",
       "        vertical-align: middle;\n",
       "    }\n",
       "\n",
       "    .dataframe tbody tr th {\n",
       "        vertical-align: top;\n",
       "    }\n",
       "\n",
       "    .dataframe thead th {\n",
       "        text-align: right;\n",
       "    }\n",
       "</style>\n",
       "<table border=\"1\" class=\"dataframe\">\n",
       "  <thead>\n",
       "    <tr style=\"text-align: right;\">\n",
       "      <th></th>\n",
       "      <th>Age</th>\n",
       "      <th>Income_k$</th>\n",
       "      <th>Education_Level</th>\n",
       "      <th>Spending_Score</th>\n",
       "      <th>Purchased</th>\n",
       "      <th>Customer_Type_B</th>\n",
       "    </tr>\n",
       "  </thead>\n",
       "  <tbody>\n",
       "    <tr>\n",
       "      <th>0</th>\n",
       "      <td>56</td>\n",
       "      <td>56</td>\n",
       "      <td>1</td>\n",
       "      <td>77.218532</td>\n",
       "      <td>0</td>\n",
       "      <td>1</td>\n",
       "    </tr>\n",
       "    <tr>\n",
       "      <th>1</th>\n",
       "      <td>46</td>\n",
       "      <td>31</td>\n",
       "      <td>1</td>\n",
       "      <td>58.605438</td>\n",
       "      <td>1</td>\n",
       "      <td>1</td>\n",
       "    </tr>\n",
       "    <tr>\n",
       "      <th>2</th>\n",
       "      <td>32</td>\n",
       "      <td>74</td>\n",
       "      <td>1</td>\n",
       "      <td>69.175872</td>\n",
       "      <td>1</td>\n",
       "      <td>1</td>\n",
       "    </tr>\n",
       "    <tr>\n",
       "      <th>3</th>\n",
       "      <td>25</td>\n",
       "      <td>32</td>\n",
       "      <td>0</td>\n",
       "      <td>18.430414</td>\n",
       "      <td>0</td>\n",
       "      <td>0</td>\n",
       "    </tr>\n",
       "    <tr>\n",
       "      <th>4</th>\n",
       "      <td>38</td>\n",
       "      <td>42</td>\n",
       "      <td>1</td>\n",
       "      <td>49.654097</td>\n",
       "      <td>1</td>\n",
       "      <td>0</td>\n",
       "    </tr>\n",
       "  </tbody>\n",
       "</table>\n",
       "</div>"
      ],
      "text/plain": [
       "   Age  Income_k$  Education_Level  Spending_Score  Purchased  Customer_Type_B\n",
       "0   56         56                1       77.218532          0                1\n",
       "1   46         31                1       58.605438          1                1\n",
       "2   32         74                1       69.175872          1                1\n",
       "3   25         32                0       18.430414          0                0\n",
       "4   38         42                1       49.654097          1                0"
      ]
     },
     "execution_count": 437,
     "metadata": {},
     "output_type": "execute_result"
    }
   ],
   "source": [
    "df_encoded.head()"
   ]
  },
  {
   "cell_type": "markdown",
   "id": "278cb823",
   "metadata": {},
   "source": [
    "#### Model Building"
   ]
  },
  {
   "cell_type": "code",
   "execution_count": 438,
   "id": "45c079b2",
   "metadata": {},
   "outputs": [
    {
     "data": {
      "text/plain": [
       "(258, 6)"
      ]
     },
     "execution_count": 438,
     "metadata": {},
     "output_type": "execute_result"
    }
   ],
   "source": [
    "df_encoded.shape"
   ]
  },
  {
   "cell_type": "code",
   "execution_count": 439,
   "id": "b291fd30",
   "metadata": {},
   "outputs": [],
   "source": [
    "np.random.seed(0)\n",
    "df_test,df_train=train_test_split(df_encoded,test_size=0.3,random_state=100)"
   ]
  },
  {
   "cell_type": "code",
   "execution_count": 440,
   "id": "65276036",
   "metadata": {},
   "outputs": [
    {
     "data": {
      "text/plain": [
       "(180, 6)"
      ]
     },
     "execution_count": 440,
     "metadata": {},
     "output_type": "execute_result"
    }
   ],
   "source": [
    "df_test.shape"
   ]
  },
  {
   "cell_type": "code",
   "execution_count": 441,
   "id": "95a22c8f",
   "metadata": {},
   "outputs": [
    {
     "data": {
      "text/plain": [
       "(78, 6)"
      ]
     },
     "execution_count": 441,
     "metadata": {},
     "output_type": "execute_result"
    }
   ],
   "source": [
    "df_train.shape\n"
   ]
  },
  {
   "cell_type": "code",
   "execution_count": 442,
   "id": "7ec447fa",
   "metadata": {},
   "outputs": [],
   "source": [
    "# create test X and Y\n",
    "y_train=df_train.pop(\"Spending_Score\")\n",
    "X_train=df_train"
   ]
  },
  {
   "cell_type": "markdown",
   "id": "bb6b3243",
   "metadata": {},
   "source": [
    "## Build Model lr_1"
   ]
  },
  {
   "cell_type": "code",
   "execution_count": 443,
   "id": "830f222a",
   "metadata": {},
   "outputs": [],
   "source": [
    "\n",
    "X_train_1 = sm.add_constant(X_train[['Income_k$']])"
   ]
  },
  {
   "cell_type": "code",
   "execution_count": 444,
   "id": "ad2f98c6",
   "metadata": {},
   "outputs": [],
   "source": [
    "lr_1=sm.OLS(y_train,X_train_1).fit()"
   ]
  },
  {
   "cell_type": "code",
   "execution_count": 445,
   "id": "4bbce009",
   "metadata": {},
   "outputs": [
    {
     "data": {
      "application/vnd.microsoft.datawrangler.viewer.v0+json": {
       "columns": [
        {
         "name": "index",
         "rawType": "object",
         "type": "string"
        },
        {
         "name": "0",
         "rawType": "float64",
         "type": "float"
        }
       ],
       "ref": "83302404-8d55-48f8-ad25-8911536df144",
       "rows": [
        [
         "const",
         "16.71796357835765"
        ],
        [
         "Income_k$",
         "0.7218654952667589"
        ]
       ],
       "shape": {
        "columns": 1,
        "rows": 2
       }
      },
      "text/plain": [
       "const        16.717964\n",
       "Income_k$     0.721865\n",
       "dtype: float64"
      ]
     },
     "execution_count": 445,
     "metadata": {},
     "output_type": "execute_result"
    }
   ],
   "source": [
    "lr_1.params"
   ]
  },
  {
   "cell_type": "code",
   "execution_count": 446,
   "id": "a0b9083a",
   "metadata": {},
   "outputs": [
    {
     "name": "stdout",
     "output_type": "stream",
     "text": [
      "                            OLS Regression Results                            \n",
      "==============================================================================\n",
      "Dep. Variable:         Spending_Score   R-squared:                       0.828\n",
      "Model:                            OLS   Adj. R-squared:                  0.826\n",
      "Method:                 Least Squares   F-statistic:                     366.0\n",
      "Date:                Wed, 03 Sep 2025   Prob (F-statistic):           8.79e-31\n",
      "Time:                        16:19:27   Log-Likelihood:                -291.14\n",
      "No. Observations:                  78   AIC:                             586.3\n",
      "Df Residuals:                      76   BIC:                             591.0\n",
      "Df Model:                           1                                         \n",
      "Covariance Type:            nonrobust                                         \n",
      "==============================================================================\n",
      "                 coef    std err          t      P>|t|      [0.025      0.975]\n",
      "------------------------------------------------------------------------------\n",
      "const         16.7180      2.918      5.729      0.000      10.906      22.529\n",
      "Income_k$      0.7219      0.038     19.132      0.000       0.647       0.797\n",
      "==============================================================================\n",
      "Omnibus:                        3.966   Durbin-Watson:                   2.449\n",
      "Prob(Omnibus):                  0.138   Jarque-Bera (JB):                3.186\n",
      "Skew:                          -0.457   Prob(JB):                        0.203\n",
      "Kurtosis:                       3.383   Cond. No.                         195.\n",
      "==============================================================================\n",
      "\n",
      "Notes:\n",
      "[1] Standard Errors assume that the covariance matrix of the errors is correctly specified.\n"
     ]
    }
   ],
   "source": [
    "print(lr_1.summary())\n"
   ]
  },
  {
   "cell_type": "markdown",
   "id": "317c5577",
   "metadata": {},
   "source": [
    "#### Prediction on training Data"
   ]
  },
  {
   "cell_type": "code",
   "execution_count": 447,
   "id": "ae0e414a",
   "metadata": {},
   "outputs": [],
   "source": [
    "y_train_1_pred=lr_1.predict(sm.add_constant(X_train[['Income_k$']]))\n"
   ]
  },
  {
   "cell_type": "markdown",
   "id": "4981f274",
   "metadata": {},
   "source": [
    "### Assumptions of Linear Regression"
   ]
  },
  {
   "cell_type": "markdown",
   "id": "f167715d",
   "metadata": {},
   "source": [
    "##### Error Terms are normally Distributed"
   ]
  },
  {
   "cell_type": "code",
   "execution_count": 448,
   "id": "b05200b4",
   "metadata": {},
   "outputs": [
    {
     "data": {
      "image/png": "[encoded data removed]",
      "text/plain": [
       "<Figure size 500x500 with 1 Axes>"
      ]
     },
     "metadata": {},
     "output_type": "display_data"
    }
   ],
   "source": [
    "\n",
    "res=y_train-y_train_1_pred\n",
    "sns.displot(res)\n",
    "plt.title('Error Terms', fontsize=20)\n",
    "plt.xlabel('Errors', fontsize=18)\n",
    "plt.show()"
   ]
  },
  {
   "cell_type": "markdown",
   "id": "b1fc8ea5",
   "metadata": {},
   "source": [
    "#### Error term having constant variance"
   ]
  },
  {
   "cell_type": "code",
   "execution_count": 449,
   "id": "c11801a4",
   "metadata": {},
   "outputs": [
    {
     "data": {
      "image/png": "[encoded data removed]",
      "text/plain": [
       "<Figure size 640x480 with 1 Axes>"
      ]
     },
     "metadata": {},
     "output_type": "display_data"
    }
   ],
   "source": [
    "fitted_values = lr_1.fittedvalues\n",
    "residuals = lr_1.resid\n",
    "\n",
    "# --- Plot residuals vs fitted values ---\n",
    "plt.scatter(fitted_values, residuals, alpha=0.7)\n",
    "plt.axhline(y=0, color=\"red\", linestyle=\"--\")\n",
    "plt.xlabel(\"Fitted Values\")\n",
    "plt.ylabel(\"Residuals\")\n",
    "plt.title(\"Residuals vs Fitted Values\")\n",
    "plt.show()"
   ]
  },
  {
   "cell_type": "markdown",
   "id": "6a15452d",
   "metadata": {},
   "source": [
    "#### Error Terms are independent of each other"
   ]
  },
  {
   "cell_type": "code",
   "execution_count": 450,
   "id": "6767d6c2",
   "metadata": {},
   "outputs": [
    {
     "data": {
      "image/png": "[encoded data removed]",
      "text/plain": [
       "<Figure size 1000x500 with 1 Axes>"
      ]
     },
     "metadata": {},
     "output_type": "display_data"
    }
   ],
   "source": [
    "plt.figure(figsize=(10, 5))\n",
    "plt.plot(residuals, marker='o', linestyle='-', alpha=0.7)\n",
    "plt.axhline(y=0, color=\"red\", linestyle=\"--\")\n",
    "plt.xlabel(\"Observation Order (Time)\")\n",
    "plt.ylabel(\"Residuals\")\n",
    "plt.title(\"Residuals over Time (Check for Independence)\")\n",
    "plt.show()"
   ]
  },
  {
   "cell_type": "markdown",
   "id": "7ecde0e2",
   "metadata": {},
   "source": [
    "#### Metrics Of Training Data"
   ]
  },
  {
   "cell_type": "code",
   "execution_count": 451,
   "id": "ab369f1f",
   "metadata": {},
   "outputs": [
    {
     "name": "stdout",
     "output_type": "stream",
     "text": [
      "Mean value of train data: 67.9426496847873\n"
     ]
    }
   ],
   "source": [
    "# mean of y_train data\n",
    "train_1_mean=np.mean(y_train)\n",
    "print(f\"Mean value of train data: {train_1_mean}\")"
   ]
  },
  {
   "cell_type": "code",
   "execution_count": 452,
   "id": "b9283324",
   "metadata": {},
   "outputs": [
    {
     "name": "stdout",
     "output_type": "stream",
     "text": [
      "mean squared error of train data: 67.9426496847873\n"
     ]
    }
   ],
   "source": [
    "# mean squared error of train data\n",
    "train_1_mse = mean_squared_error(y_train, y_train_1_pred)\n",
    "print('mean squared error of train data:' ,train_1_mean)\n"
   ]
  },
  {
   "cell_type": "code",
   "execution_count": 453,
   "id": "9bc1795c",
   "metadata": {},
   "outputs": [
    {
     "name": "stdout",
     "output_type": "stream",
     "text": [
      "rmse Score of train data: 10.111223943440665\n"
     ]
    }
   ],
   "source": [
    "# root mean squared error of train data\n",
    "train_1_rmse = np.sqrt(train_1_mse)\n",
    "print(\"rmse Score of train data:\",train_1_rmse)"
   ]
  },
  {
   "cell_type": "code",
   "execution_count": 454,
   "id": "1823fc6f",
   "metadata": {},
   "outputs": [
    {
     "name": "stdout",
     "output_type": "stream",
     "text": [
      "on average, model lr_1 predictions are off by ~10.1 spending\n"
     ]
    }
   ],
   "source": [
    "print(f\"on average, model lr_1 predictions are off by ~{train_1_rmse:.1f} spending\")"
   ]
  },
  {
   "cell_type": "code",
   "execution_count": 455,
   "id": "9a6b5f9c",
   "metadata": {},
   "outputs": [
    {
     "data": {
      "image/png": "[encoded data removed]",
      "text/plain": [
       "<Figure size 1000x600 with 1 Axes>"
      ]
     },
     "metadata": {},
     "output_type": "display_data"
    }
   ],
   "source": [
    "fig, ax = plt.subplots(figsize=(10, 6))\n",
    "\n",
    "# Plot the individual data points as a scatter plot\n",
    "ax.scatter(range(len(y_train)), y_train, color='blue', label='Data Points', zorder=2)\n",
    "\n",
    "# Plot a horizontal line at the mean value\n",
    "ax.axhline(y=train_1_mean, color='red', linestyle='--', linewidth=2, label=f'Mean = {train_1_mean:.2f}')\n",
    "\n",
    "# Add labels and a title\n",
    "ax.set_xlabel('Data Point Index')\n",
    "ax.set_ylabel('Data Values')\n",
    "ax.set_title('Visualization of Total Sum of Squares (TSS)')\n",
    "\n",
    "# Set y-axis limits to provide better context\n",
    "ax.set_ylim(min(y_train) - 5, max(y_train) + 5)\n",
    "\n",
    "# Add a legend and grid\n",
    "ax.legend()\n",
    "ax.grid(True, linestyle='--', alpha=0.6)"
   ]
  },
  {
   "cell_type": "markdown",
   "id": "52ae8b3c",
   "metadata": {},
   "source": [
    "##### Above plot shows that the data is widely spread from average data point"
   ]
  },
  {
   "cell_type": "markdown",
   "id": "1f016440",
   "metadata": {},
   "source": [
    "#### Total Sum of Squares (TSS) / Total Variation  \n",
    "\n",
    "**Definition:**  \n",
    "TSS measures how much individual data points (e.g., spendings) vary from their average (mean).  \n",
    "It shows the overall variability in the data.  \n",
    "\n",
    "---\n",
    "\n",
    "#### How it works:  \n",
    "\n",
    "- We calculate the difference between each data point and the **average value**.  \n",
    "- Square these differences.  \n",
    "- Add them all together.  \n",
    "- The result is the **TSS**.  \n",
    "\n",
    "---\n",
    "\n",
    "#### Interpretation  \n",
    "\n",
    "- **Large Differences = Large TSS**  \n",
    "  - If the individual spending amounts are very different from the average spending,  \n",
    "    the TSS will be a **large number**.  \n",
    "  - This indicates **high variability** (big spread in the data).  \n",
    "\n",
    "- **Small Differences = Small TSS**  \n",
    "  - If all the spending amounts are very close to the average,  \n",
    "    the TSS will be a **small number**.  \n",
    "  - This indicates **low variability** (data points are very similar).  \n",
    "\n",
    "---\n",
    "\n",
    "#### Intuition  \n",
    "\n",
    "- **High TSS** → People’s spendings vary a lot.  \n",
    "- **Low TSS** → Everyone spends about the same amount.  \n"
   ]
  },
  {
   "cell_type": "code",
   "execution_count": 456,
   "id": "4c4dcfa8",
   "metadata": {},
   "outputs": [
    {
     "name": "stdout",
     "output_type": "stream",
     "text": [
      "total variation of train data: 46380.295178138746\n"
     ]
    }
   ],
   "source": [
    "# total sum of sqaure or total variation\n",
    "train_1_TSS = np.sum((y_train - train_1_mean)**2)\n",
    "print(\"total variation of train data:\", train_1_TSS)"
   ]
  },
  {
   "cell_type": "markdown",
   "id": "9a86e1b8",
   "metadata": {},
   "source": [
    "#### Residual Sum of Squares (RSS)  \n",
    "\n",
    "**Definition:**  \n",
    "RSS measures the amount of variation in the data that the model **fails to explain**.  \n",
    "It is the sum of squared differences between the **actual values** and the **predicted values** from the model.  \n",
    "\n",
    "---\n",
    "\n",
    "#### Formula  \n",
    "\n",
    "$$\n",
    "RSS = \\sum (y_i - \\hat{y}_i)^2\n",
    "$$\n",
    "\n",
    "Where:  \n",
    "- \\(y_i\\) = actual value  \n",
    "- $\\hat{y}_i$ = predicted value by the model  \n",
    "\n",
    "---\n",
    "\n",
    "#### Interpretation  \n",
    "\n",
    "- **Small RSS** → Predictions are very close to actual values → model fits well.  \n",
    "- **Large RSS** → Predictions are far from actual values → model fits poorly.  \n",
    "\n",
    "---\n",
    "\n",
    "#### Intuition  \n",
    "\n",
    "- **Low RSS** → The model captures most of the data’s variation.  \n",
    "- **High RSS** → The model misses a lot of variation (poor fit).  \n"
   ]
  },
  {
   "cell_type": "code",
   "execution_count": 457,
   "id": "d4655929",
   "metadata": {},
   "outputs": [
    {
     "name": "stdout",
     "output_type": "stream",
     "text": [
      "RSS value of train data: 7974.4742714838085\n"
     ]
    }
   ],
   "source": [
    "# RSS residual sum of sqaure\n",
    "train_1_RSS=np.sum((y_train-y_train_1_pred)**2)\n",
    "print(f\"RSS value of train data: {train_1_RSS}\")"
   ]
  },
  {
   "cell_type": "code",
   "execution_count": 458,
   "id": "02bb1278",
   "metadata": {},
   "outputs": [
    {
     "name": "stdout",
     "output_type": "stream",
     "text": [
      "R2 score of train data: 0.8280633135072724\n"
     ]
    }
   ],
   "source": [
    "# R2 score of train data\n",
    "print(\"R2 score of train data:\",r2_score(y_train, y_train_1_pred))"
   ]
  },
  {
   "cell_type": "markdown",
   "id": "8f18f2cd",
   "metadata": {},
   "source": [
    "### Conclusion on Training Data (Using only the feature **Income_k$**)\n",
    "\n",
    "##### RMSE Interpretation\n",
    "\n",
    "- The **Root Mean Squared Error (RMSE)** on the training data is **10.1**.  \n",
    "\n",
    "**Meaning:**  \n",
    "- On average, model lr_1 predictions on training data differ from the actual values by about **10.1 points**.  \n",
    "- Example:  \n",
    "  - If the model lr_1 predicts a **Spending Score = 78** on training data,  \n",
    "  - The actual score is likely to fall within the range:  \n",
    "\n",
    "    **78 ± 10.1 → [67.9 , 88.1]**\n",
    "\n",
    "##### Key Insight \n",
    "- A **smaller RMSE** indicates a more accurate model.  \n",
    "\n",
    "##### R² Interpretation  \n",
    "\n",
    "- **TSS (Total Sum of Squares / total variation):** `46380.295178138746`  \n",
    "- **RSS (Residual Sum of Squares / unexplained variation):** `7974.4742714838085`    \n",
    "\n",
    "$$\n",
    "R^2 = 1 - \\frac{RSS}{TSS} = 1 - \\frac{7974.4742714838085}{46380.295178138746} \\approx 0.82\n",
    "$$\n",
    "\n",
    "\n",
    "✅ The model lr_1 explains about **82% of the total variation** in the training data.  \n",
    "❌ About **18% of the variation** is not explained by the model lr_1.  \n",
    "\n"
   ]
  },
  {
   "cell_type": "code",
   "execution_count": 459,
   "id": "a31596c8",
   "metadata": {},
   "outputs": [],
   "source": [
    "# create test Data\n",
    "y_test=df_test.pop('Spending_Score')\n",
    "X_test=df_test"
   ]
  },
  {
   "cell_type": "code",
   "execution_count": 460,
   "id": "58d3485f",
   "metadata": {},
   "outputs": [],
   "source": [
    "y_test_1_pred=lr_1.predict(sm.add_constant(X_test[['Income_k$']]))"
   ]
  },
  {
   "cell_type": "markdown",
   "id": "0a7f76bd",
   "metadata": {},
   "source": [
    "#### Metrics of Test Data"
   ]
  },
  {
   "cell_type": "code",
   "execution_count": 461,
   "id": "69c4fbb3",
   "metadata": {},
   "outputs": [
    {
     "name": "stdout",
     "output_type": "stream",
     "text": [
      "Mean value of test data: 64.64620756134603\n"
     ]
    }
   ],
   "source": [
    "# mean of y_test data\n",
    "test_1_mean=np.mean(y_test)\n",
    "print(f\"Mean value of test data: {test_1_mean}\")"
   ]
  },
  {
   "cell_type": "code",
   "execution_count": 462,
   "id": "a2de6698",
   "metadata": {},
   "outputs": [
    {
     "name": "stdout",
     "output_type": "stream",
     "text": [
      "mean squared error of test data: 141.2049819587289\n"
     ]
    }
   ],
   "source": [
    "# mean sqaured error of test data\n",
    "test_1_mse = mean_squared_error(y_test, y_test_1_pred)\n",
    "print('mean squared error of test data:' ,test_1_mse)"
   ]
  },
  {
   "cell_type": "code",
   "execution_count": 463,
   "id": "40bc42a3",
   "metadata": {},
   "outputs": [
    {
     "name": "stdout",
     "output_type": "stream",
     "text": [
      "RMSE score of test data: 11.88297024984616\n"
     ]
    }
   ],
   "source": [
    "test_1_rmse = np.sqrt(test_1_mse)\n",
    "print(\"RMSE score of test data:\",test_1_rmse)"
   ]
  },
  {
   "cell_type": "code",
   "execution_count": 464,
   "id": "aa4af5d9",
   "metadata": {},
   "outputs": [
    {
     "name": "stdout",
     "output_type": "stream",
     "text": [
      "TSS value of test data: 116407.59262767146\n"
     ]
    }
   ],
   "source": [
    "test_1_TSS = np.sum((y_test - test_1_mean)**2)\n",
    "print(\"TSS value of test data:\", test_1_TSS)"
   ]
  },
  {
   "cell_type": "code",
   "execution_count": 465,
   "id": "33588373",
   "metadata": {},
   "outputs": [
    {
     "name": "stdout",
     "output_type": "stream",
     "text": [
      "RSS value of test data: 25416.896752571203\n"
     ]
    }
   ],
   "source": [
    "# RSS residual sum of sqaure\n",
    "test_1_RSS=np.sum((y_test-y_test_1_pred)**2)\n",
    "print(f\"RSS value of test data: {test_1_RSS}\")"
   ]
  },
  {
   "cell_type": "code",
   "execution_count": 466,
   "id": "7c8349ee",
   "metadata": {},
   "outputs": [
    {
     "name": "stdout",
     "output_type": "stream",
     "text": [
      "R2 score of test data: 0.7816560227830938\n"
     ]
    }
   ],
   "source": [
    "# R2 score of Test data\n",
    "train_1_r2=r2_score(y_test, y_test_1_pred)\n",
    "print(\"R2 score of test data:\",train_1_r2)"
   ]
  },
  {
   "cell_type": "code",
   "execution_count": 467,
   "id": "9b4c9fa2",
   "metadata": {},
   "outputs": [
    {
     "name": "stdout",
     "output_type": "stream",
     "text": [
      "model lr_1 was able to explain 78.2% variation on the test data\n"
     ]
    }
   ],
   "source": [
    "print(f\"model lr_1 was able to explain {train_1_r2*100:.1f}% variation on the test data\")"
   ]
  },
  {
   "cell_type": "markdown",
   "id": "300f3cd1",
   "metadata": {},
   "source": [
    "#### Conclusion on Test Data (Using only the feature **Income_k$**)\n",
    "\n",
    "##### RMSE Interpretation\n",
    "\n",
    "- The **Root Mean Squared Error (RMSE)** on the test data is **11.1**.  \n",
    "\n",
    "**Meaning:**  \n",
    "- On average, model lr_1 predictions on test data differ from the actual values by about **11.1 points**.  \n",
    "- Example:  \n",
    "  - If the model lr_1 predicts a **Spending Score = 78** on test data,  \n",
    "  - The actual score is likely to fall within the range:  \n",
    "\n",
    "    **78 ± 11.1 → [66.9 , 89.1]**\n",
    "\n",
    "##### Key Insight \n",
    "- A **smaller RMSE** indicates a more accurate model.  \n",
    "\n",
    "##### R² Interpretation  \n",
    "\n",
    "- **TSS (Total Sum of Squares / total variation):** `116407.59262767146`  \n",
    "- **RSS (Residual Sum of Squares / unexplained variation):** `25416.896752571203`   \n",
    "\n",
    "$$\n",
    "R^2 = 1 - \\frac{RSS}{TSS} = 1 - \\frac{25416.89675257120}{116407.59262767146} \\approx 0.78\n",
    "$$\n",
    "\n",
    "\n",
    "✅ The model lr_1 explains about **78% of the total variation** in the test data.  \n",
    "❌ About **22% of the variation** is not explained by the model. \n"
   ]
  },
  {
   "cell_type": "markdown",
   "id": "48969805",
   "metadata": {},
   "source": [
    "## Build Model lr_2"
   ]
  },
  {
   "cell_type": "code",
   "execution_count": 468,
   "id": "f886d6aa",
   "metadata": {},
   "outputs": [
    {
     "data": {
      "application/vnd.microsoft.datawrangler.viewer.v0+json": {
       "columns": [
        {
         "name": "index",
         "rawType": "int64",
         "type": "integer"
        },
        {
         "name": "Age",
         "rawType": "int64",
         "type": "integer"
        },
        {
         "name": "Income_k$",
         "rawType": "int64",
         "type": "integer"
        },
        {
         "name": "Education_Level",
         "rawType": "int64",
         "type": "integer"
        },
        {
         "name": "Purchased",
         "rawType": "int64",
         "type": "integer"
        },
        {
         "name": "Customer_Type_B",
         "rawType": "int64",
         "type": "integer"
        }
       ],
       "ref": "1b3bdc16-f6a9-4bcb-88fd-17fb9e74985b",
       "rows": [
        [
         "212",
         "46",
         "24",
         "1",
         "0",
         "0"
        ],
        [
         "200",
         "55",
         "96",
         "1",
         "1",
         "0"
        ],
        [
         "163",
         "56",
         "83",
         "0",
         "1",
         "1"
        ],
        [
         "41",
         "26",
         "58",
         "1",
         "0",
         "1"
        ],
        [
         "97",
         "58",
         "77",
         "0",
         "0",
         "1"
        ],
        [
         "140",
         "53",
         "106",
         "0",
         "1",
         "1"
        ],
        [
         "237",
         "52",
         "58",
         "0",
         "1",
         "1"
        ],
        [
         "126",
         "32",
         "118",
         "1",
         "1",
         "1"
        ],
        [
         "236",
         "59",
         "91",
         "1",
         "0",
         "1"
        ],
        [
         "83",
         "26",
         "50",
         "1",
         "0",
         "1"
        ],
        [
         "124",
         "26",
         "94",
         "1",
         "1",
         "1"
        ],
        [
         "81",
         "42",
         "55",
         "1",
         "1",
         "1"
        ],
        [
         "46",
         "24",
         "33",
         "0",
         "0",
         "0"
        ],
        [
         "231",
         "45",
         "84",
         "0",
         "0",
         "1"
        ],
        [
         "62",
         "27",
         "59",
         "1",
         "1",
         "1"
        ],
        [
         "128",
         "59",
         "39",
         "1",
         "1",
         "1"
        ],
        [
         "170",
         "59",
         "96",
         "0",
         "0",
         "1"
        ],
        [
         "115",
         "54",
         "63",
         "0",
         "0",
         "1"
        ],
        [
         "59",
         "35",
         "26",
         "1",
         "1",
         "0"
        ],
        [
         "75",
         "43",
         "105",
         "0",
         "1",
         "1"
        ],
        [
         "160",
         "30",
         "111",
         "0",
         "1",
         "1"
        ],
        [
         "96",
         "56",
         "111",
         "1",
         "1",
         "1"
        ],
        [
         "146",
         "19",
         "35",
         "1",
         "0",
         "1"
        ],
        [
         "88",
         "28",
         "110",
         "1",
         "1",
         "0"
        ],
        [
         "23",
         "29",
         "90",
         "1",
         "1",
         "1"
        ],
        [
         "205",
         "39",
         "40",
         "1",
         "0",
         "0"
        ],
        [
         "224",
         "50",
         "92",
         "1",
         "1",
         "1"
        ],
        [
         "204",
         "23",
         "20",
         "0",
         "0",
         "0"
        ],
        [
         "256",
         "41",
         "85",
         "1",
         "1",
         "1"
        ],
        [
         "69",
         "40",
         "48",
         "0",
         "1",
         "0"
        ],
        [
         "149",
         "45",
         "43",
         "1",
         "1",
         "1"
        ],
        [
         "31",
         "20",
         "118",
         "0",
         "1",
         "1"
        ],
        [
         "103",
         "51",
         "20",
         "0",
         "0",
         "0"
        ],
        [
         "26",
         "44",
         "114",
         "0",
         "1",
         "0"
        ],
        [
         "218",
         "20",
         "93",
         "1",
         "1",
         "1"
        ],
        [
         "64",
         "31",
         "28",
         "1",
         "1",
         "0"
        ],
        [
         "239",
         "33",
         "53",
         "1",
         "0",
         "0"
        ],
        [
         "213",
         "20",
         "22",
         "1",
         "0",
         "0"
        ],
        [
         "3",
         "25",
         "32",
         "0",
         "0",
         "0"
        ],
        [
         "52",
         "57",
         "94",
         "1",
         "1",
         "1"
        ],
        [
         "156",
         "56",
         "77",
         "0",
         "1",
         "1"
        ],
        [
         "32",
         "54",
         "31",
         "1",
         "0",
         "0"
        ],
        [
         "171",
         "41",
         "111",
         "1",
         "1",
         "0"
        ],
        [
         "148",
         "23",
         "95",
         "1",
         "1",
         "1"
        ],
        [
         "219",
         "36",
         "93",
         "0",
         "1",
         "1"
        ],
        [
         "230",
         "28",
         "81",
         "0",
         "1",
         "1"
        ],
        [
         "152",
         "47",
         "111",
         "0",
         "1",
         "1"
        ],
        [
         "85",
         "18",
         "80",
         "1",
         "1",
         "1"
        ],
        [
         "220",
         "37",
         "102",
         "0",
         "1",
         "1"
        ],
        [
         "111",
         "44",
         "52",
         "0",
         "1",
         "1"
        ]
       ],
       "shape": {
        "columns": 5,
        "rows": 78
       }
      },
      "text/html": [
       "<div>\n",
       "<style scoped>\n",
       "    .dataframe tbody tr th:only-of-type {\n",
       "        vertical-align: middle;\n",
       "    }\n",
       "\n",
       "    .dataframe tbody tr th {\n",
       "        vertical-align: top;\n",
       "    }\n",
       "\n",
       "    .dataframe thead th {\n",
       "        text-align: right;\n",
       "    }\n",
       "</style>\n",
       "<table border=\"1\" class=\"dataframe\">\n",
       "  <thead>\n",
       "    <tr style=\"text-align: right;\">\n",
       "      <th></th>\n",
       "      <th>Age</th>\n",
       "      <th>Income_k$</th>\n",
       "      <th>Education_Level</th>\n",
       "      <th>Purchased</th>\n",
       "      <th>Customer_Type_B</th>\n",
       "    </tr>\n",
       "  </thead>\n",
       "  <tbody>\n",
       "    <tr>\n",
       "      <th>212</th>\n",
       "      <td>46</td>\n",
       "      <td>24</td>\n",
       "      <td>1</td>\n",
       "      <td>0</td>\n",
       "      <td>0</td>\n",
       "    </tr>\n",
       "    <tr>\n",
       "      <th>200</th>\n",
       "      <td>55</td>\n",
       "      <td>96</td>\n",
       "      <td>1</td>\n",
       "      <td>1</td>\n",
       "      <td>0</td>\n",
       "    </tr>\n",
       "    <tr>\n",
       "      <th>163</th>\n",
       "      <td>56</td>\n",
       "      <td>83</td>\n",
       "      <td>0</td>\n",
       "      <td>1</td>\n",
       "      <td>1</td>\n",
       "    </tr>\n",
       "    <tr>\n",
       "      <th>41</th>\n",
       "      <td>26</td>\n",
       "      <td>58</td>\n",
       "      <td>1</td>\n",
       "      <td>0</td>\n",
       "      <td>1</td>\n",
       "    </tr>\n",
       "    <tr>\n",
       "      <th>97</th>\n",
       "      <td>58</td>\n",
       "      <td>77</td>\n",
       "      <td>0</td>\n",
       "      <td>0</td>\n",
       "      <td>1</td>\n",
       "    </tr>\n",
       "    <tr>\n",
       "      <th>...</th>\n",
       "      <td>...</td>\n",
       "      <td>...</td>\n",
       "      <td>...</td>\n",
       "      <td>...</td>\n",
       "      <td>...</td>\n",
       "    </tr>\n",
       "    <tr>\n",
       "      <th>110</th>\n",
       "      <td>39</td>\n",
       "      <td>75</td>\n",
       "      <td>1</td>\n",
       "      <td>1</td>\n",
       "      <td>1</td>\n",
       "    </tr>\n",
       "    <tr>\n",
       "      <th>25</th>\n",
       "      <td>42</td>\n",
       "      <td>97</td>\n",
       "      <td>1</td>\n",
       "      <td>1</td>\n",
       "      <td>1</td>\n",
       "    </tr>\n",
       "    <tr>\n",
       "      <th>182</th>\n",
       "      <td>34</td>\n",
       "      <td>29</td>\n",
       "      <td>1</td>\n",
       "      <td>0</td>\n",
       "      <td>0</td>\n",
       "    </tr>\n",
       "    <tr>\n",
       "      <th>10</th>\n",
       "      <td>41</td>\n",
       "      <td>103</td>\n",
       "      <td>1</td>\n",
       "      <td>1</td>\n",
       "      <td>1</td>\n",
       "    </tr>\n",
       "    <tr>\n",
       "      <th>99</th>\n",
       "      <td>24</td>\n",
       "      <td>111</td>\n",
       "      <td>1</td>\n",
       "      <td>1</td>\n",
       "      <td>1</td>\n",
       "    </tr>\n",
       "  </tbody>\n",
       "</table>\n",
       "<p>78 rows × 5 columns</p>\n",
       "</div>"
      ],
      "text/plain": [
       "     Age  Income_k$  Education_Level  Purchased  Customer_Type_B\n",
       "212   46         24                1          0                0\n",
       "200   55         96                1          1                0\n",
       "163   56         83                0          1                1\n",
       "41    26         58                1          0                1\n",
       "97    58         77                0          0                1\n",
       "..   ...        ...              ...        ...              ...\n",
       "110   39         75                1          1                1\n",
       "25    42         97                1          1                1\n",
       "182   34         29                1          0                0\n",
       "10    41        103                1          1                1\n",
       "99    24        111                1          1                1\n",
       "\n",
       "[78 rows x 5 columns]"
      ]
     },
     "execution_count": 468,
     "metadata": {},
     "output_type": "execute_result"
    }
   ],
   "source": [
    "X_train"
   ]
  },
  {
   "cell_type": "markdown",
   "id": "0faa7c98",
   "metadata": {},
   "source": [
    "#### Perform Variance inflation factor to determine the multicollinearity "
   ]
  },
  {
   "cell_type": "code",
   "execution_count": 469,
   "id": "9cbdcedb",
   "metadata": {},
   "outputs": [
    {
     "data": {
      "application/vnd.microsoft.datawrangler.viewer.v0+json": {
       "columns": [
        {
         "name": "index",
         "rawType": "int64",
         "type": "integer"
        },
        {
         "name": "Features",
         "rawType": "object",
         "type": "string"
        },
        {
         "name": "VIF",
         "rawType": "float64",
         "type": "float"
        }
       ],
       "ref": "1b100247-0811-4452-a9d6-b2db12867df8",
       "rows": [
        [
         "0",
         "Income_k$",
         "4.45"
        ],
        [
         "2",
         "Customer_Type_B",
         "3.55"
        ],
        [
         "1",
         "Education_Level",
         "1.89"
        ]
       ],
       "shape": {
        "columns": 2,
        "rows": 3
       }
      },
      "text/html": [
       "<div>\n",
       "<style scoped>\n",
       "    .dataframe tbody tr th:only-of-type {\n",
       "        vertical-align: middle;\n",
       "    }\n",
       "\n",
       "    .dataframe tbody tr th {\n",
       "        vertical-align: top;\n",
       "    }\n",
       "\n",
       "    .dataframe thead th {\n",
       "        text-align: right;\n",
       "    }\n",
       "</style>\n",
       "<table border=\"1\" class=\"dataframe\">\n",
       "  <thead>\n",
       "    <tr style=\"text-align: right;\">\n",
       "      <th></th>\n",
       "      <th>Features</th>\n",
       "      <th>VIF</th>\n",
       "    </tr>\n",
       "  </thead>\n",
       "  <tbody>\n",
       "    <tr>\n",
       "      <th>0</th>\n",
       "      <td>Income_k$</td>\n",
       "      <td>4.45</td>\n",
       "    </tr>\n",
       "    <tr>\n",
       "      <th>2</th>\n",
       "      <td>Customer_Type_B</td>\n",
       "      <td>3.55</td>\n",
       "    </tr>\n",
       "    <tr>\n",
       "      <th>1</th>\n",
       "      <td>Education_Level</td>\n",
       "      <td>1.89</td>\n",
       "    </tr>\n",
       "  </tbody>\n",
       "</table>\n",
       "</div>"
      ],
      "text/plain": [
       "          Features   VIF\n",
       "0        Income_k$  4.45\n",
       "2  Customer_Type_B  3.55\n",
       "1  Education_Level  1.89"
      ]
     },
     "execution_count": 469,
     "metadata": {},
     "output_type": "execute_result"
    }
   ],
   "source": [
    "vif = pd.DataFrame()\n",
    "X = X_train.drop(columns=['Age','Purchased'])\n",
    "vif['Features'] = X.columns\n",
    "vif['VIF'] = [variance_inflation_factor(X.values, i) for i in range(X.shape[1])]\n",
    "vif['VIF'] = round(vif['VIF'], 2)\n",
    "vif = vif.sort_values(by = \"VIF\", ascending = False)\n",
    "vif"
   ]
  },
  {
   "cell_type": "code",
   "execution_count": 470,
   "id": "cd609aef",
   "metadata": {},
   "outputs": [],
   "source": [
    "X_train_2 = sm.add_constant(X_train[vif[\"Features\"]])"
   ]
  },
  {
   "cell_type": "code",
   "execution_count": 471,
   "id": "5f9257f1",
   "metadata": {},
   "outputs": [],
   "source": [
    "lr_2=sm.OLS(y_train,X_train_2).fit()"
   ]
  },
  {
   "cell_type": "code",
   "execution_count": 472,
   "id": "2718107d",
   "metadata": {},
   "outputs": [
    {
     "data": {
      "application/vnd.microsoft.datawrangler.viewer.v0+json": {
       "columns": [
        {
         "name": "index",
         "rawType": "object",
         "type": "string"
        },
        {
         "name": "0",
         "rawType": "float64",
         "type": "float"
        }
       ],
       "ref": "6e79be2c-deb0-464c-a445-0b84831ef4a1",
       "rows": [
        [
         "const",
         "11.68078716790108"
        ],
        [
         "Income_k$",
         "0.7046677232870797"
        ],
        [
         "Customer_Type_B",
         "2.356674163236771"
        ],
        [
         "Education_Level",
         "8.468463498284855"
        ]
       ],
       "shape": {
        "columns": 1,
        "rows": 4
       }
      },
      "text/plain": [
       "const              11.680787\n",
       "Income_k$           0.704668\n",
       "Customer_Type_B     2.356674\n",
       "Education_Level     8.468463\n",
       "dtype: float64"
      ]
     },
     "execution_count": 472,
     "metadata": {},
     "output_type": "execute_result"
    }
   ],
   "source": [
    "lr_2.params"
   ]
  },
  {
   "cell_type": "code",
   "execution_count": 473,
   "id": "6bb4510a",
   "metadata": {},
   "outputs": [
    {
     "name": "stdout",
     "output_type": "stream",
     "text": [
      "                            OLS Regression Results                            \n",
      "==============================================================================\n",
      "Dep. Variable:         Spending_Score   R-squared:                       0.859\n",
      "Model:                            OLS   Adj. R-squared:                  0.853\n",
      "Method:                 Least Squares   F-statistic:                     150.1\n",
      "Date:                Wed, 03 Sep 2025   Prob (F-statistic):           2.21e-31\n",
      "Time:                        16:19:28   Log-Likelihood:                -283.44\n",
      "No. Observations:                  78   AIC:                             574.9\n",
      "Df Residuals:                      74   BIC:                             584.3\n",
      "Df Model:                           3                                         \n",
      "Covariance Type:            nonrobust                                         \n",
      "===================================================================================\n",
      "                      coef    std err          t      P>|t|      [0.025      0.975]\n",
      "-----------------------------------------------------------------------------------\n",
      "const              11.6808      2.958      3.949      0.000       5.787      17.575\n",
      "Income_k$           0.7047      0.040     17.661      0.000       0.625       0.784\n",
      "Customer_Type_B     2.3567      2.539      0.928      0.356      -2.703       7.416\n",
      "Education_Level     8.4685      2.149      3.941      0.000       4.187      12.750\n",
      "==============================================================================\n",
      "Omnibus:                        5.246   Durbin-Watson:                   2.310\n",
      "Prob(Omnibus):                  0.073   Jarque-Bera (JB):                4.455\n",
      "Skew:                          -0.541   Prob(JB):                        0.108\n",
      "Kurtosis:                       3.449   Cond. No.                         231.\n",
      "==============================================================================\n",
      "\n",
      "Notes:\n",
      "[1] Standard Errors assume that the covariance matrix of the errors is correctly specified.\n"
     ]
    }
   ],
   "source": [
    "print(lr_2.summary())"
   ]
  },
  {
   "cell_type": "markdown",
   "id": "a2ad3993",
   "metadata": {},
   "source": [
    "#### Prediction on Train Data"
   ]
  },
  {
   "cell_type": "code",
   "execution_count": 474,
   "id": "4609702b",
   "metadata": {},
   "outputs": [],
   "source": [
    "y_train_2_pred=lr_2.predict(X_train_2)"
   ]
  },
  {
   "cell_type": "markdown",
   "id": "e23f3bbd",
   "metadata": {},
   "source": [
    "#### Error Distribution of Train Data"
   ]
  },
  {
   "cell_type": "code",
   "execution_count": 475,
   "id": "bf52d968",
   "metadata": {},
   "outputs": [
    {
     "data": {
      "image/png": "[encoded data removed]",
      "text/plain": [
       "<Figure size 500x500 with 1 Axes>"
      ]
     },
     "metadata": {},
     "output_type": "display_data"
    }
   ],
   "source": [
    "res=y_train-y_train_2_pred\n",
    "sns.displot(res)\n",
    "plt.show()"
   ]
  },
  {
   "cell_type": "markdown",
   "id": "57f09070",
   "metadata": {},
   "source": [
    "#### Train Data Metric"
   ]
  },
  {
   "cell_type": "code",
   "execution_count": 476,
   "id": "2c6e7067",
   "metadata": {},
   "outputs": [
    {
     "name": "stdout",
     "output_type": "stream",
     "text": [
      "mean value of train data: 67.9426496847873\n"
     ]
    }
   ],
   "source": [
    "# mena of y_train data\n",
    "train_2_mean=np.mean(y_train)\n",
    "print(f\"mean value of train data: {train_2_mean}\")"
   ]
  },
  {
   "cell_type": "code",
   "execution_count": 477,
   "id": "328cc332",
   "metadata": {},
   "outputs": [
    {
     "name": "stdout",
     "output_type": "stream",
     "text": [
      "mean sqaured error of train data: 83.91312686136037\n"
     ]
    }
   ],
   "source": [
    "# mean squared error of train data\n",
    "train_2_mse=mean_squared_error(y_train,y_train_2_pred)\n",
    "print(f\"mean sqaured error of train data: {train_2_mse}\")"
   ]
  },
  {
   "cell_type": "code",
   "execution_count": 478,
   "id": "1f6cba48",
   "metadata": {},
   "outputs": [
    {
     "name": "stdout",
     "output_type": "stream",
     "text": [
      "root mean squared of train data: 9.160410845664094\n"
     ]
    }
   ],
   "source": [
    "# root mean squarede error of train data\n",
    "train_2_rmse=np.sqrt(train_2_mse)\n",
    "print(f\"root mean squared of train data: {train_2_rmse}\")"
   ]
  },
  {
   "cell_type": "code",
   "execution_count": 479,
   "id": "8063351f",
   "metadata": {},
   "outputs": [
    {
     "name": "stdout",
     "output_type": "stream",
     "text": [
      "on average, model lr_2 predictions are off by ~9.2 spending on train data\n"
     ]
    }
   ],
   "source": [
    "print(f\"on average, model lr_2 predictions are off by ~{train_2_rmse:.1f} spending on train data\")"
   ]
  },
  {
   "cell_type": "code",
   "execution_count": 480,
   "id": "96911b0d",
   "metadata": {},
   "outputs": [
    {
     "name": "stdout",
     "output_type": "stream",
     "text": [
      "total sum of sqaure or total variation on train data: 46380.295178138746\n"
     ]
    }
   ],
   "source": [
    "# total sum of square or total variation of train data\n",
    "train_2_TSS=np.sum((y_train-train_2_mean)**2)\n",
    "print(f\"total sum of sqaure or total variation on train data: {train_2_TSS}\")"
   ]
  },
  {
   "cell_type": "code",
   "execution_count": 481,
   "id": "cbf698ee",
   "metadata": {},
   "outputs": [
    {
     "name": "stdout",
     "output_type": "stream",
     "text": [
      "residula sum of square on train data: 6545.223895186109\n"
     ]
    }
   ],
   "source": [
    "# residual sum of square train data\n",
    "train_2_rss=np.sum((y_train-y_train_2_pred)**2)\n",
    "print(f\"residula sum of square on train data: {train_2_rss}\")"
   ]
  },
  {
   "cell_type": "code",
   "execution_count": 482,
   "id": "783de406",
   "metadata": {},
   "outputs": [
    {
     "name": "stdout",
     "output_type": "stream",
     "text": [
      "r2 score of train data: 0.8588792100169473\n"
     ]
    }
   ],
   "source": [
    "# r2 score of train data\n",
    "train_2_r2=r2_score(y_train,y_train_2_pred)\n",
    "print(f\"r2 score of train data: {train_2_r2}\")"
   ]
  },
  {
   "cell_type": "code",
   "execution_count": 483,
   "id": "21546c0f",
   "metadata": {},
   "outputs": [
    {
     "name": "stdout",
     "output_type": "stream",
     "text": [
      "model lr_2 was able to explain 85.9% variation on the train data\n"
     ]
    }
   ],
   "source": [
    "print(f\"model lr_2 was able to explain {train_2_r2*100:.1f}% variation on the train data\")"
   ]
  },
  {
   "cell_type": "markdown",
   "id": "4dd4af1f",
   "metadata": {},
   "source": [
    "#### Conclusion on Train Data using features [Income_k$,Customer_Type_B,Education_Level,Customer_Type_C]\n",
    "\n",
    "##### RMSE Interpretation\n",
    "\n",
    "- The **Root Mean Squared Error (RMSE)** on the training data is **9.1**.  \n",
    "\n",
    "**Meaning:**  \n",
    "- On average, model lr_2 predictions on training data differ from the actual values by about **9.1 points**.  \n",
    "- Example:  \n",
    "  - If the model lr_2 predicts a **Spending Score = 78** on training data,  \n",
    "  - The actual score is likely to fall within the range:  \n",
    "\n",
    "    **78 ± 9.1 → [87.1 , 68.9]**\n",
    "\n",
    "##### Key Insight \n",
    "- A **smaller RMSE** indicates a more accurate model.  \n",
    "\n",
    "##### R² Interpretation  \n",
    "\n",
    "- **TSS (Total Sum of Squares / total variation):** `46380.295178138746`  \n",
    "- **RSS (Residual Sum of Squares / unexplained variation):** `6545.223895186109`  \n",
    "\n",
    "$$\n",
    "R^2 = 1 - \\frac{RSS}{TSS} = 1 - \\frac{10281.047198640987}{99219.30403575004} \\approx 0.85\n",
    "$$\n",
    "\n",
    "\n",
    "✅ The model lr_2 explains about **85% of the total variation** in the on training data.  \n",
    "❌ About **15% of the variation** is not explained by the model. "
   ]
  },
  {
   "cell_type": "markdown",
   "id": "5319660c",
   "metadata": {},
   "source": [
    "#### Prediction on Test Data"
   ]
  },
  {
   "cell_type": "code",
   "execution_count": 484,
   "id": "f5be0e2f",
   "metadata": {},
   "outputs": [],
   "source": [
    "X_test_2 = sm.add_constant(X_test[vif[\"Features\"]])"
   ]
  },
  {
   "cell_type": "code",
   "execution_count": 485,
   "id": "54378429",
   "metadata": {},
   "outputs": [],
   "source": [
    "y_test_2_pred=lr_2.predict(X_test_2)"
   ]
  },
  {
   "cell_type": "code",
   "execution_count": 486,
   "id": "fdd34cb2",
   "metadata": {},
   "outputs": [
    {
     "name": "stdout",
     "output_type": "stream",
     "text": [
      "mean value of test data: 64.64620756134603\n"
     ]
    }
   ],
   "source": [
    "# mean of y_test data\n",
    "test_2_mean=np.mean(y_test)\n",
    "print(f\"mean value of test data: {test_2_mean}\")"
   ]
  },
  {
   "cell_type": "code",
   "execution_count": 487,
   "id": "3091d11c",
   "metadata": {},
   "outputs": [
    {
     "name": "stdout",
     "output_type": "stream",
     "text": [
      "mean sqaured error of test data: 112.27903784596091\n"
     ]
    }
   ],
   "source": [
    "# mean squared error on test data\n",
    "test_2_mse=mean_squared_error(y_test,y_test_2_pred)\n",
    "print(f\"mean sqaured error of test data: {test_2_mse}\")"
   ]
  },
  {
   "cell_type": "code",
   "execution_count": 488,
   "id": "6382057a",
   "metadata": {},
   "outputs": [
    {
     "name": "stdout",
     "output_type": "stream",
     "text": [
      "root mean squared error of test data: 10.596180342272442\n"
     ]
    }
   ],
   "source": [
    "# root mean squared error on test data\n",
    "test_2_rmse=np.sqrt(test_2_mse)\n",
    "print(f\"root mean squared error of test data: {test_2_rmse}\")"
   ]
  },
  {
   "cell_type": "code",
   "execution_count": 489,
   "id": "d675e776",
   "metadata": {},
   "outputs": [
    {
     "name": "stdout",
     "output_type": "stream",
     "text": [
      "on average, model lr_2 predictions are off by ~10.6 spending on train data\n"
     ]
    }
   ],
   "source": [
    "print(f\"on average, model lr_2 predictions are off by ~{test_2_rmse:.1f} spending on train data\")"
   ]
  },
  {
   "cell_type": "code",
   "execution_count": 490,
   "id": "83d290e5",
   "metadata": {},
   "outputs": [
    {
     "name": "stdout",
     "output_type": "stream",
     "text": [
      "total sum of sqaure or total variation on test data: 116407.59262767146\n"
     ]
    }
   ],
   "source": [
    "# total sum of square or total variation of train data\n",
    "test_2_TSS=np.sum((y_test-test_2_mean)**2)\n",
    "print(f\"total sum of sqaure or total variation on test data: {test_2_TSS}\")"
   ]
  },
  {
   "cell_type": "code",
   "execution_count": 491,
   "id": "228e595a",
   "metadata": {},
   "outputs": [
    {
     "name": "stdout",
     "output_type": "stream",
     "text": [
      "residula sum of square on test data: 20210.226812272966\n"
     ]
    }
   ],
   "source": [
    "# residual sum of square test data\n",
    "test_2_rss=np.sum((y_test-y_test_2_pred)**2)\n",
    "print(f\"residula sum of square on test data: {test_2_rss}\")"
   ]
  },
  {
   "cell_type": "code",
   "execution_count": 492,
   "id": "46671216",
   "metadata": {},
   "outputs": [
    {
     "name": "stdout",
     "output_type": "stream",
     "text": [
      "r2 score of test data: 0.8263839466475766\n"
     ]
    }
   ],
   "source": [
    "# r2 score of test data\n",
    "test_2_r2=r2_score(y_test,y_test_2_pred)\n",
    "print(f\"r2 score of test data: {test_2_r2}\")"
   ]
  },
  {
   "cell_type": "code",
   "execution_count": 493,
   "id": "df5bd92a",
   "metadata": {},
   "outputs": [
    {
     "name": "stdout",
     "output_type": "stream",
     "text": [
      "model lr_2 was able to explain 82.6% variation on the test data\n"
     ]
    }
   ],
   "source": [
    "print(f\"model lr_2 was able to explain {test_2_r2*100:.1f}% variation on the test data\")"
   ]
  },
  {
   "cell_type": "markdown",
   "id": "d1734be9",
   "metadata": {},
   "source": [
    "#### Conclusion on Test Data using features [Income_k$,Customer_Type_B,Education_Level,Customer_Type_C]\n",
    "\n",
    "##### RMSE Interpretation\n",
    "\n",
    "- The **Root Mean Squared Error (RMSE)** on the test data is **10.5**.  \n",
    "\n",
    "**Meaning:**  \n",
    "- On average, model lr_2 predictions on test data differ from the actual values by about **10.5 points**.  \n",
    "- Example:  \n",
    "  - If the model lr_2 predicts a **Spending Score = 78** on test data,  \n",
    "  - The actual score is likely to fall within the range:  \n",
    "\n",
    "    **78 ± 10.5 → [88.5 , 67.5]**\n",
    "\n",
    "##### Key Insight \n",
    "- A **smaller RMSE** indicates a more accurate model.  \n",
    "\n",
    "##### R² Interpretation  \n",
    "\n",
    "- **TSS (Total Sum of Squares / total variation):** `116407.59262767146`  \n",
    "- **RSS (Residual Sum of Squares / unexplained variation):** `20210.226812272966`  \n",
    "\n",
    "\n",
    "$$\n",
    "R^2 = 1 - \\frac{RSS}{TSS} = 1 - \\frac{20210.226812272966}{116407.59262767146} \\approx 0.82\n",
    "$$\n",
    "\n",
    "\n",
    "✅ The model lr_2 explains about **82% of the total variation** in the on test data.  \n",
    "❌ About **18% of the variation** is not explained by the model. "
   ]
  },
  {
   "cell_type": "markdown",
   "id": "8457a6f3",
   "metadata": {},
   "source": [
    "## Build Model lr_3"
   ]
  },
  {
   "cell_type": "code",
   "execution_count": 494,
   "id": "9019e4d2",
   "metadata": {},
   "outputs": [],
   "source": [
    "X_test_3=sm.add_constant(X_test)"
   ]
  },
  {
   "cell_type": "code",
   "execution_count": 495,
   "id": "496f0ead",
   "metadata": {},
   "outputs": [],
   "source": [
    "lr_3=sm.OLS(y_test,X_test_3).fit()"
   ]
  },
  {
   "cell_type": "code",
   "execution_count": 496,
   "id": "04cf0100",
   "metadata": {},
   "outputs": [
    {
     "data": {
      "application/vnd.microsoft.datawrangler.viewer.v0+json": {
       "columns": [
        {
         "name": "index",
         "rawType": "object",
         "type": "string"
        },
        {
         "name": "0",
         "rawType": "float64",
         "type": "float"
        }
       ],
       "ref": "e5a9ddd5-bd08-4d8e-a2e6-37c952580401",
       "rows": [
        [
         "const",
         "-4.92239006876229"
        ],
        [
         "Age",
         "0.29236373473148236"
        ],
        [
         "Income_k$",
         "0.7782014136846762"
        ],
        [
         "Education_Level",
         "10.823398598848502"
        ],
        [
         "Purchased",
         "-0.565614825010006"
        ],
        [
         "Customer_Type_B",
         "0.25068533194460585"
        ]
       ],
       "shape": {
        "columns": 1,
        "rows": 6
       }
      },
      "text/plain": [
       "const              -4.922390\n",
       "Age                 0.292364\n",
       "Income_k$           0.778201\n",
       "Education_Level    10.823399\n",
       "Purchased          -0.565615\n",
       "Customer_Type_B     0.250685\n",
       "dtype: float64"
      ]
     },
     "execution_count": 496,
     "metadata": {},
     "output_type": "execute_result"
    }
   ],
   "source": [
    "lr_3.params"
   ]
  },
  {
   "cell_type": "code",
   "execution_count": 497,
   "id": "f729b9cf",
   "metadata": {},
   "outputs": [
    {
     "name": "stdout",
     "output_type": "stream",
     "text": [
      "                            OLS Regression Results                            \n",
      "==============================================================================\n",
      "Dep. Variable:         Spending_Score   R-squared:                       0.855\n",
      "Model:                            OLS   Adj. R-squared:                  0.851\n",
      "Method:                 Least Squares   F-statistic:                     205.6\n",
      "Date:                Wed, 03 Sep 2025   Prob (F-statistic):           4.69e-71\n",
      "Time:                        16:19:28   Log-Likelihood:                -663.94\n",
      "No. Observations:                 180   AIC:                             1340.\n",
      "Df Residuals:                     174   BIC:                             1359.\n",
      "Df Model:                           5                                         \n",
      "Covariance Type:            nonrobust                                         \n",
      "===================================================================================\n",
      "                      coef    std err          t      P>|t|      [0.025      0.975]\n",
      "-----------------------------------------------------------------------------------\n",
      "const              -4.9224      2.945     -1.672      0.096     -10.734       0.890\n",
      "Age                 0.2924      0.059      4.953      0.000       0.176       0.409\n",
      "Income_k$           0.7782      0.033     23.712      0.000       0.713       0.843\n",
      "Education_Level    10.8234      1.508      7.178      0.000       7.847      13.800\n",
      "Purchased          -0.5656      1.819     -0.311      0.756      -4.156       3.025\n",
      "Customer_Type_B     0.2507      1.587      0.158      0.875      -2.881       3.383\n",
      "==============================================================================\n",
      "Omnibus:                        1.004   Durbin-Watson:                   2.178\n",
      "Prob(Omnibus):                  0.605   Jarque-Bera (JB):                1.092\n",
      "Skew:                           0.169   Prob(JB):                        0.579\n",
      "Kurtosis:                       2.824   Cond. No.                         330.\n",
      "==============================================================================\n",
      "\n",
      "Notes:\n",
      "[1] Standard Errors assume that the covariance matrix of the errors is correctly specified.\n"
     ]
    }
   ],
   "source": [
    "print(lr_3.summary())"
   ]
  },
  {
   "cell_type": "markdown",
   "id": "9dadc13a",
   "metadata": {},
   "source": [
    "#### Prediction on Train data"
   ]
  },
  {
   "cell_type": "code",
   "execution_count": 498,
   "id": "1e615a81",
   "metadata": {},
   "outputs": [],
   "source": [
    "y_test_3_pred=lr_3.predict(X_test_3)"
   ]
  },
  {
   "cell_type": "markdown",
   "id": "3e17a4ba",
   "metadata": {},
   "source": [
    "#### Error distribution of test data using model lr_3"
   ]
  },
  {
   "cell_type": "code",
   "execution_count": 499,
   "id": "1cae9f5b",
   "metadata": {},
   "outputs": [
    {
     "data": {
      "image/png": "[encoded data removed]",
      "text/plain": [
       "<Figure size 500x500 with 1 Axes>"
      ]
     },
     "metadata": {},
     "output_type": "display_data"
    }
   ],
   "source": [
    "res=y_test-y_test_3_pred\n",
    "sns.displot(res)\n",
    "plt.show()"
   ]
  },
  {
   "cell_type": "markdown",
   "id": "df8fe481",
   "metadata": {},
   "source": [
    "#### Test "
   ]
  }
 ],
 "metadata": {
  "kernelspec": {
   "display_name": "gensimfix",
   "language": "python",
   "name": "python3"
  },
  "language_info": {
   "codemirror_mode": {
    "name": "ipython",
    "version": 3
   },
   "file_extension": ".py",
   "mimetype": "text/x-python",
   "name": "python",
   "nbconvert_exporter": "python",
   "pygments_lexer": "ipython3",
   "version": "3.10.13"
  }
 },
 "nbformat": 4,
 "nbformat_minor": 5
}
