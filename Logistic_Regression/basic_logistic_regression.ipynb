{
 "cells": [
  {
   "cell_type": "code",
   "execution_count": 5,
   "id": "35bbe99c",
   "metadata": {},
   "outputs": [],
   "source": [
    "import numpy as np\n",
    "import pandas as pd\n",
    "from sklearn.model_selection import train_test_split"
   ]
  },
  {
   "cell_type": "code",
   "execution_count": 13,
   "id": "fa2f43c1",
   "metadata": {},
   "outputs": [],
   "source": [
    "df=pd.read_csv('../Data/basic_dataset.csv')"
   ]
  },
  {
   "cell_type": "code",
   "execution_count": 7,
   "id": "c238c29d",
   "metadata": {},
   "outputs": [
    {
     "name": "stdout",
     "output_type": "stream",
     "text": [
      "<class 'pandas.core.frame.DataFrame'>\n",
      "RangeIndex: 500 entries, 0 to 499\n",
      "Data columns (total 6 columns):\n",
      " #   Column           Non-Null Count  Dtype  \n",
      "---  ------           --------------  -----  \n",
      " 0   Age              500 non-null    int64  \n",
      " 1   Income_k$        500 non-null    int64  \n",
      " 2   Education_Level  500 non-null    int64  \n",
      " 3   Spending_Score   500 non-null    float64\n",
      " 4   Purchased        500 non-null    int64  \n",
      " 5   Customer_Type    500 non-null    object \n",
      "dtypes: float64(1), int64(4), object(1)\n",
      "memory usage: 23.6+ KB\n"
     ]
    }
   ],
   "source": [
    "df.info()"
   ]
  },
  {
   "cell_type": "code",
   "execution_count": 8,
   "id": "746cad60",
   "metadata": {},
   "outputs": [
    {
     "data": {
      "application/vnd.microsoft.datawrangler.viewer.v0+json": {
       "columns": [
        {
         "name": "index",
         "rawType": "int64",
         "type": "integer"
        },
        {
         "name": "Age",
         "rawType": "int64",
         "type": "integer"
        },
        {
         "name": "Income_k$",
         "rawType": "int64",
         "type": "integer"
        },
        {
         "name": "Education_Level",
         "rawType": "int64",
         "type": "integer"
        },
        {
         "name": "Spending_Score",
         "rawType": "float64",
         "type": "float"
        },
        {
         "name": "Purchased",
         "rawType": "int64",
         "type": "integer"
        },
        {
         "name": "Customer_Type",
         "rawType": "object",
         "type": "string"
        }
       ],
       "ref": "eeca49de-6116-4ca8-b322-4482af2c6f6d",
       "rows": [
        [
         "0",
         "56",
         "56",
         "1",
         "77.21853189426848",
         "0",
         "B"
        ],
        [
         "1",
         "46",
         "31",
         "1",
         "58.605438246922134",
         "1",
         "B"
        ],
        [
         "2",
         "32",
         "74",
         "1",
         "69.17587221544434",
         "1",
         "B"
        ],
        [
         "3",
         "25",
         "32",
         "0",
         "18.430413712665604",
         "0",
         "C"
        ],
        [
         "4",
         "38",
         "42",
         "1",
         "49.65409699692031",
         "1",
         "C"
        ]
       ],
       "shape": {
        "columns": 6,
        "rows": 5
       }
      },
      "text/html": [
       "<div>\n",
       "<style scoped>\n",
       "    .dataframe tbody tr th:only-of-type {\n",
       "        vertical-align: middle;\n",
       "    }\n",
       "\n",
       "    .dataframe tbody tr th {\n",
       "        vertical-align: top;\n",
       "    }\n",
       "\n",
       "    .dataframe thead th {\n",
       "        text-align: right;\n",
       "    }\n",
       "</style>\n",
       "<table border=\"1\" class=\"dataframe\">\n",
       "  <thead>\n",
       "    <tr style=\"text-align: right;\">\n",
       "      <th></th>\n",
       "      <th>Age</th>\n",
       "      <th>Income_k$</th>\n",
       "      <th>Education_Level</th>\n",
       "      <th>Spending_Score</th>\n",
       "      <th>Purchased</th>\n",
       "      <th>Customer_Type</th>\n",
       "    </tr>\n",
       "  </thead>\n",
       "  <tbody>\n",
       "    <tr>\n",
       "      <th>0</th>\n",
       "      <td>56</td>\n",
       "      <td>56</td>\n",
       "      <td>1</td>\n",
       "      <td>77.218532</td>\n",
       "      <td>0</td>\n",
       "      <td>B</td>\n",
       "    </tr>\n",
       "    <tr>\n",
       "      <th>1</th>\n",
       "      <td>46</td>\n",
       "      <td>31</td>\n",
       "      <td>1</td>\n",
       "      <td>58.605438</td>\n",
       "      <td>1</td>\n",
       "      <td>B</td>\n",
       "    </tr>\n",
       "    <tr>\n",
       "      <th>2</th>\n",
       "      <td>32</td>\n",
       "      <td>74</td>\n",
       "      <td>1</td>\n",
       "      <td>69.175872</td>\n",
       "      <td>1</td>\n",
       "      <td>B</td>\n",
       "    </tr>\n",
       "    <tr>\n",
       "      <th>3</th>\n",
       "      <td>25</td>\n",
       "      <td>32</td>\n",
       "      <td>0</td>\n",
       "      <td>18.430414</td>\n",
       "      <td>0</td>\n",
       "      <td>C</td>\n",
       "    </tr>\n",
       "    <tr>\n",
       "      <th>4</th>\n",
       "      <td>38</td>\n",
       "      <td>42</td>\n",
       "      <td>1</td>\n",
       "      <td>49.654097</td>\n",
       "      <td>1</td>\n",
       "      <td>C</td>\n",
       "    </tr>\n",
       "  </tbody>\n",
       "</table>\n",
       "</div>"
      ],
      "text/plain": [
       "   Age  Income_k$  Education_Level  Spending_Score  Purchased Customer_Type\n",
       "0   56         56                1       77.218532          0             B\n",
       "1   46         31                1       58.605438          1             B\n",
       "2   32         74                1       69.175872          1             B\n",
       "3   25         32                0       18.430414          0             C\n",
       "4   38         42                1       49.654097          1             C"
      ]
     },
     "execution_count": 8,
     "metadata": {},
     "output_type": "execute_result"
    }
   ],
   "source": [
    "df.head()"
   ]
  },
  {
   "cell_type": "code",
   "execution_count": 14,
   "id": "e473d965",
   "metadata": {},
   "outputs": [
    {
     "data": {
      "application/vnd.microsoft.datawrangler.viewer.v0+json": {
       "columns": [
        {
         "name": "Customer_Type",
         "rawType": "object",
         "type": "string"
        },
        {
         "name": "count",
         "rawType": "int64",
         "type": "integer"
        }
       ],
       "ref": "3cd2b264-b0ac-4a86-9416-fed33ae4e207",
       "rows": [
        [
         "B",
         "154"
        ],
        [
         "A",
         "104"
        ]
       ],
       "shape": {
        "columns": 1,
        "rows": 2
       }
      },
      "text/plain": [
       "Customer_Type\n",
       "B    154\n",
       "A    104\n",
       "Name: count, dtype: int64"
      ]
     },
     "execution_count": 14,
     "metadata": {},
     "output_type": "execute_result"
    }
   ],
   "source": [
    "df.Customer_Type.value_counts()"
   ]
  }
 ],
 "metadata": {
  "kernelspec": {
   "display_name": "gensimfix",
   "language": "python",
   "name": "python3"
  },
  "language_info": {
   "codemirror_mode": {
    "name": "ipython",
    "version": 3
   },
   "file_extension": ".py",
   "mimetype": "text/x-python",
   "name": "python",
   "nbconvert_exporter": "python",
   "pygments_lexer": "ipython3",
   "version": "3.10.13"
  }
 },
 "nbformat": 4,
 "nbformat_minor": 5
}
